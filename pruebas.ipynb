{
 "cells": [
  {
   "cell_type": "code",
   "id": "initial_id",
   "metadata": {
    "collapsed": true,
    "ExecuteTime": {
     "end_time": "2025-05-07T14:55:02.478604Z",
     "start_time": "2025-05-07T14:55:02.449305Z"
    }
   },
   "source": [
    "import torch\n",
    "import torch.nn as nn\n",
    "import torch.nn.functional as F\n",
    "from torch.utils.data import DataLoader\n",
    "import wandb\n",
    "from config import get_default_cfg\n",
    "from sae import VanillaSAE, TopKSAE, BatchTopKSAE, JumpReLUSAE\n",
    "import transformer_lens\n",
    "from transformer_lens import HookedTransformer, HookedEncoder\n",
    "from transformers import GPT2Tokenizer, GPT2Model, BertModel, BertTokenizer\n",
    "from datasets import load_dataset\n",
    "import matplotlib.pyplot as plt\n",
    "import json\n",
    "import os\n",
    "import numpy as np\n",
    "from sentence_transformers import SentenceTransformer\n",
    "import heapq\n",
    "from tqdm import tqdm\n",
    "import random\n",
    "import subprocess\n",
    "import time\n",
    "from utils import wait_for_gpu_cooldown"
   ],
   "outputs": [],
   "execution_count": 9
  },
  {
   "metadata": {
    "ExecuteTime": {
     "end_time": "2025-05-07T14:55:08.027279Z",
     "start_time": "2025-05-07T14:55:03.201127Z"
    }
   },
   "cell_type": "code",
   "source": [
    "import importlib\n",
    "import explainer\n",
    "import config\n",
    "import utils\n",
    "importlib.reload(explainer)\n",
    "importlib.reload(config)\n",
    "importlib.reload(utils)\n",
    "from explainer import Explainer\n",
    "\n",
    "cfg = get_default_cfg()\n",
    "cfg[\"artifact_path\"] = 'ybiku-unir/SBERT-SAEs-csLG/sentence-transformers_paraphrase-mpnet-base-v2_blocks.0.hook_embed_2304_jumprelu_16_0.0003_389:v0'\n",
    "cfg[\"dataset_path\"] = \"UniverseTBD/arxiv-bit-flip-cs.LG\"\n",
    "\n",
    "explainer = Explainer(cfg)\n",
    "sae = explainer.load_sae()"
   ],
   "id": "57af5eed69531358",
   "outputs": [
    {
     "name": "stderr",
     "output_type": "stream",
     "text": [
      "wandb:   2 of 2 files downloaded.  \n"
     ]
    }
   ],
   "execution_count": 10
  },
  {
   "metadata": {
    "ExecuteTime": {
     "end_time": "2025-05-07T14:55:17.840200Z",
     "start_time": "2025-05-07T14:55:10.887583Z"
    }
   },
   "cell_type": "code",
   "source": "fire_rate = explainer.compute_fire_rate(column=\"abstract\", save_path=\"fire_rate_csLG.npy\", num_examples=int(100e3))",
   "id": "b0b01f2ceef5bc50",
   "outputs": [
    {
     "name": "stderr",
     "output_type": "stream",
     "text": [
      "Processing examples: 0it [00:00, ?it/s]\n"
     ]
    },
    {
     "name": "stdout",
     "output_type": "stream",
     "text": [
      "[INFO] Fire rate saved in: fire_rate_test.npy\n"
     ]
    }
   ],
   "execution_count": 11
  },
  {
   "metadata": {
    "ExecuteTime": {
     "end_time": "2025-05-07T14:55:59.209740Z",
     "start_time": "2025-05-07T14:55:59.170058Z"
    }
   },
   "cell_type": "code",
   "source": [
    "#load fire rate\n",
    "fire_rate = np.load(\"fire_rate_test.npy\").item()\n",
    "fire_rate.shape"
   ],
   "id": "179953291ae655b5",
   "outputs": [
    {
     "ename": "ValueError",
     "evalue": "can only convert an array of size 1 to a Python scalar",
     "output_type": "error",
     "traceback": [
      "\u001B[1;31m---------------------------------------------------------------------------\u001B[0m",
      "\u001B[1;31mValueError\u001B[0m                                Traceback (most recent call last)",
      "Cell \u001B[1;32mIn[13], line 2\u001B[0m\n\u001B[0;32m      1\u001B[0m \u001B[38;5;66;03m#load fire rate\u001B[39;00m\n\u001B[1;32m----> 2\u001B[0m fire_rate \u001B[38;5;241m=\u001B[39m \u001B[43mnp\u001B[49m\u001B[38;5;241;43m.\u001B[39;49m\u001B[43mload\u001B[49m\u001B[43m(\u001B[49m\u001B[38;5;124;43m\"\u001B[39;49m\u001B[38;5;124;43mfire_rate_test.npy\u001B[39;49m\u001B[38;5;124;43m\"\u001B[39;49m\u001B[43m)\u001B[49m\u001B[38;5;241;43m.\u001B[39;49m\u001B[43mitem\u001B[49m\u001B[43m(\u001B[49m\u001B[43m)\u001B[49m\n\u001B[0;32m      3\u001B[0m fire_rate\u001B[38;5;241m.\u001B[39mshape\n",
      "\u001B[1;31mValueError\u001B[0m: can only convert an array of size 1 to a Python scalar"
     ]
    }
   ],
   "execution_count": 13
  },
  {
   "metadata": {
    "ExecuteTime": {
     "end_time": "2025-05-04T16:31:58.544282Z",
     "start_time": "2025-05-04T16:16:26.457708Z"
    }
   },
   "cell_type": "code",
   "source": [
    "top_activations = explainer.get_top_activating_texts(\n",
    "    num_examples = 100,\n",
    "    top_k = 2,\n",
    "    save_to_json = True\n",
    ")\n",
    "keywords = explainer.extract_keywords_per_feature(\n",
    "    top_activations, top_n_keywords = 3\n",
    ")"
   ],
   "id": "cc47d26e825e60a5",
   "outputs": [
    {
     "name": "stdout",
     "output_type": "stream",
     "text": [
      "[INFO] Saving top activations to top_activations.json...\n",
      "[INFO] Processed 500 features...\n",
      "[INFO] Processed 1000 features...\n",
      "[INFO] Processed 1500 features...\n",
      "[INFO] Processed 2000 features...\n"
     ]
    }
   ],
   "execution_count": 48
  },
  {
   "metadata": {
    "ExecuteTime": {
     "end_time": "2025-05-04T16:32:51.288337Z",
     "start_time": "2025-05-04T16:32:51.273336Z"
    }
   },
   "cell_type": "code",
   "source": "",
   "id": "cbd270d71ea21a0a",
   "outputs": [
    {
     "data": {
      "text/plain": [
       "{'feature_id': 3,\n",
       " 'keywords': [('rappers automobile', 0.6673637325789099),\n",
       "  ('automobile', 0.611345063299372),\n",
       "  ('currency dollar', 0.5424690899079466)]}"
      ]
     },
     "execution_count": 53,
     "metadata": {},
     "output_type": "execute_result"
    }
   ],
   "execution_count": 53
  }
 ],
 "metadata": {
  "kernelspec": {
   "display_name": "Python 3",
   "language": "python",
   "name": "python3"
  },
  "language_info": {
   "codemirror_mode": {
    "name": "ipython",
    "version": 2
   },
   "file_extension": ".py",
   "mimetype": "text/x-python",
   "name": "python",
   "nbconvert_exporter": "python",
   "pygments_lexer": "ipython2",
   "version": "2.7.6"
  }
 },
 "nbformat": 4,
 "nbformat_minor": 5
}
