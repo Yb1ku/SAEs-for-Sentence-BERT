{
 "cells": [
  {
   "cell_type": "code",
   "id": "initial_id",
   "metadata": {
    "collapsed": true,
    "ExecuteTime": {
     "end_time": "2025-04-29T18:44:07.555745Z",
     "start_time": "2025-04-29T18:43:56.615589Z"
    }
   },
   "source": [
    "import torch\n",
    "import torch.nn as nn\n",
    "import torch.nn.functional as F\n",
    "import wandb\n",
    "from config import get_default_cfg\n",
    "from sae import VanillaSAE, TopKSAE, BatchTopKSAE, JumpReLUSAE\n",
    "import transformer_lens\n",
    "from transformer_lens import HookedTransformer, HookedEncoder\n",
    "from transformers import GPT2Tokenizer, GPT2Model, BertModel, BertTokenizer\n",
    "from datasets import load_dataset\n",
    "import matplotlib.pyplot as plt\n",
    "import json\n",
    "import os\n",
    "import numpy as np\n",
    "from sentence_transformers import SentenceTransformer\n",
    "import heapq\n",
    "from tqdm import tqdm\n",
    "import random\n",
    "import subprocess\n",
    "import time"
   ],
   "outputs": [],
   "execution_count": 1
  },
  {
   "metadata": {
    "ExecuteTime": {
     "end_time": "2025-04-25T15:09:26.069115Z",
     "start_time": "2025-04-25T15:09:18.182975Z"
    }
   },
   "cell_type": "code",
   "source": [
    "def get_gpu_temperature(gpu_id=0):\n",
    "    try:\n",
    "        output = subprocess.check_output(\n",
    "            [\"nvidia-smi\", \"--query-gpu=temperature.gpu\", \"--format=csv,noheader,nounits\", f\"--id={gpu_id}\"],\n",
    "            encoding=\"utf-8\"\n",
    "        )\n",
    "        return int(output.strip())\n",
    "    except Exception as e:\n",
    "        print(f\"[WARN] Could not read GPU temperature: {e}\")\n",
    "        return None\n",
    "\n",
    "def wait_for_gpu_cooling(threshold=77, resume_temp=65, gpu_id=0, check_interval=10):\n",
    "    while True:\n",
    "        temp = get_gpu_temperature(gpu_id)\n",
    "        if temp is None:\n",
    "            break\n",
    "        if temp <= threshold:\n",
    "            break\n",
    "        print(f\"[INFO] GPU temperature is {temp}°C (waiting untill it reaches {resume_temp}°C)...\")\n",
    "        while temp > resume_temp:\n",
    "            time.sleep(check_interval)\n",
    "            temp = get_gpu_temperature(gpu_id)\n",
    "        print(f\"[INFO] GPU cooled down to {temp}°C. Resuming process.\")\n",
    "\n",
    "from transformers import pipeline\n",
    "from sae import JumpReLUSAE\n",
    "\n",
    "sbert = SentenceTransformer('sentence-transformers/paraphrase-mpnet-base-v2')\n",
    "distilbert = pipeline(\"fill-mask\", model=\"distilbert/distilbert-base-cased\")\n",
    "cfg = get_default_cfg()\n",
    "\n",
    "run = wandb.init()\n",
    "artifact = run.use_artifact('ybiku-unir/SBERT-SAEs-ThePile/sentence-transformers_paraphrase-mpnet-base-v2_blocks.0.hook_embed_2304_jumprelu_16_0.0003_389:v0', type='model')\n",
    "artifact_dir = artifact.download()\n",
    "config_path = os.path.join(artifact_dir, 'config.json')\n",
    "with open(config_path, 'r') as f:\n",
    "    config = json.load(f)\n",
    "\n",
    "if \"dtype\" in config and isinstance(config[\"dtype\"], str):\n",
    "    if config[\"dtype\"] == \"torch.float32\":\n",
    "        config[\"dtype\"] = torch.float32\n",
    "    elif config[\"dtype\"] == \"torch.float16\":\n",
    "        config[\"dtype\"] = torch.float16\n",
    "\n",
    "sae = JumpReLUSAE(config).to(config[\"device\"])\n",
    "sae.load_state_dict(torch.load(os.path.join(artifact_dir, 'sae.pt')))\n",
    "sae.eval()"
   ],
   "id": "fc12935e819b7516",
   "outputs": [
    {
     "name": "stderr",
     "output_type": "stream",
     "text": [
      "Device set to use cuda:0\n",
      "wandb: Using wandb-core as the SDK backend.  Please refer to https://wandb.me/wandb-core for more information.\n",
      "wandb: Currently logged in as: ybiku (ybiku-unir) to https://api.wandb.ai. Use `wandb login --relogin` to force relogin\n"
     ]
    },
    {
     "data": {
      "text/plain": [
       "<IPython.core.display.HTML object>"
      ],
      "text/html": [
       "Tracking run with wandb version 0.19.8"
      ]
     },
     "metadata": {},
     "output_type": "display_data"
    },
    {
     "data": {
      "text/plain": [
       "<IPython.core.display.HTML object>"
      ],
      "text/html": [
       "Run data is saved locally in <code>D:\\Escritorio\\PythonProyects\\SparseAutoencodersTFM\\wandb\\run-20250425_170923-8545bsm5</code>"
      ]
     },
     "metadata": {},
     "output_type": "display_data"
    },
    {
     "data": {
      "text/plain": [
       "<IPython.core.display.HTML object>"
      ],
      "text/html": [
       "Syncing run <strong><a href='https://wandb.ai/ybiku-unir/uncategorized/runs/8545bsm5' target=\"_blank\">ruby-sea-57</a></strong> to <a href='https://wandb.ai/ybiku-unir/uncategorized' target=\"_blank\">Weights & Biases</a> (<a href='https://wandb.me/developer-guide' target=\"_blank\">docs</a>)<br>"
      ]
     },
     "metadata": {},
     "output_type": "display_data"
    },
    {
     "data": {
      "text/plain": [
       "<IPython.core.display.HTML object>"
      ],
      "text/html": [
       " View project at <a href='https://wandb.ai/ybiku-unir/uncategorized' target=\"_blank\">https://wandb.ai/ybiku-unir/uncategorized</a>"
      ]
     },
     "metadata": {},
     "output_type": "display_data"
    },
    {
     "data": {
      "text/plain": [
       "<IPython.core.display.HTML object>"
      ],
      "text/html": [
       " View run at <a href='https://wandb.ai/ybiku-unir/uncategorized/runs/8545bsm5' target=\"_blank\">https://wandb.ai/ybiku-unir/uncategorized/runs/8545bsm5</a>"
      ]
     },
     "metadata": {},
     "output_type": "display_data"
    },
    {
     "name": "stderr",
     "output_type": "stream",
     "text": [
      "wandb:   2 of 2 files downloaded.  \n"
     ]
    },
    {
     "data": {
      "text/plain": [
       "JumpReLUSAE(\n",
       "  (jumprelu): JumpReLU()\n",
       ")"
      ]
     },
     "execution_count": 3,
     "metadata": {},
     "output_type": "execute_result"
    }
   ],
   "execution_count": 3
  },
  {
   "metadata": {
    "ExecuteTime": {
     "end_time": "2025-04-25T15:09:58.752685Z",
     "start_time": "2025-04-25T15:09:58.735765Z"
    }
   },
   "cell_type": "code",
   "source": [
    "# Calcular el número total de parámetros del SAE\n",
    "total_params = sum(p.numel() for p in sae.parameters())\n",
    "total_params"
   ],
   "id": "20a701c497e42285",
   "outputs": [
    {
     "data": {
      "text/plain": [
       "3544320"
      ]
     },
     "execution_count": 5,
     "metadata": {},
     "output_type": "execute_result"
    }
   ],
   "execution_count": 5
  },
  {
   "metadata": {},
   "cell_type": "markdown",
   "source": [
    "---\n",
    "### $W_{dec}$ analysis"
   ],
   "id": "90e1d9d774007f69"
  },
  {
   "metadata": {
    "ExecuteTime": {
     "end_time": "2025-04-17T08:07:40.837584Z",
     "start_time": "2025-04-17T08:07:40.809901Z"
    }
   },
   "cell_type": "code",
   "source": [
    "W_dec = sae.W_dec.data\n",
    "W_dec = W_dec.cpu().numpy()\n",
    "W_dec.shape"
   ],
   "id": "b84f2fd4bee87106",
   "outputs": [
    {
     "data": {
      "text/plain": [
       "(2304, 768)"
      ]
     },
     "execution_count": 3,
     "metadata": {},
     "output_type": "execute_result"
    }
   ],
   "execution_count": 3
  },
  {
   "metadata": {
    "ExecuteTime": {
     "end_time": "2025-04-17T08:09:26.101798Z",
     "start_time": "2025-04-17T08:09:25.926910Z"
    }
   },
   "cell_type": "code",
   "source": [
    "Wn = W_dec / np.linalg.norm(W_dec, axis=1, keepdims=True)\n",
    "cos = Wn @ Wn.T\n",
    "np.fill_diagonal(cos, 0)\n",
    "max_overlap = cos.max()\n",
    "rank = np.linalg.matrix_rank(W_dec)\n",
    "\n",
    "print(f\"Real rank: {rank} / 2304\")\n",
    "print(f\"Max cosine similarity between features: {max_overlap:.3f}\")"
   ],
   "id": "4f916d9f8e213f1f",
   "outputs": [
    {
     "name": "stdout",
     "output_type": "stream",
     "text": [
      "Real rank: 768 / 2304\n",
      "Max cosine similarity between features: 0.208\n"
     ]
    }
   ],
   "execution_count": 5
  },
  {
   "metadata": {
    "ExecuteTime": {
     "end_time": "2025-04-17T08:11:08.870851Z",
     "start_time": "2025-04-17T08:11:08.645881Z"
    }
   },
   "cell_type": "code",
   "source": [
    "tri = cos[np.triu_indices_from(cos, k=1)]\n",
    "plt.hist(tri, bins=50); plt.title(\"Cosine distribution\"); plt.show()"
   ],
   "id": "bbe20414e55cfe05",
   "outputs": [
    {
     "data": {
      "text/plain": [
       "<Figure size 640x480 with 1 Axes>"
      ],
      "image/png": "[encoded data removed]"
     },
     "metadata": {},
     "output_type": "display_data"
    }
   ],
   "execution_count": 6
  },
  {
   "metadata": {
    "ExecuteTime": {
     "end_time": "2025-04-17T08:18:49.831272Z",
     "start_time": "2025-04-17T08:18:49.695500Z"
    }
   },
   "cell_type": "code",
   "source": [
    "norms = np.linalg.norm(W_dec, axis=1)\n",
    "plt.hist(norms, bins=40); plt.title(\"Norm of dictionary atoms\"); plt.show()"
   ],
   "id": "1b1a89cf75dc7b70",
   "outputs": [
    {
     "data": {
      "text/plain": [
       "<Figure size 640x480 with 1 Axes>"
      ],
      "image/png": "[encoded data removed]"
     },
     "metadata": {},
     "output_type": "display_data"
    }
   ],
   "execution_count": 9
  },
  {
   "metadata": {},
   "cell_type": "markdown",
   "source": [
    "---\n",
    "## Analysis of the clusters"
   ],
   "id": "c7704dd2f3b0be4d"
  },
  {
   "metadata": {
    "ExecuteTime": {
     "end_time": "2025-04-17T08:23:43.547304Z",
     "start_time": "2025-04-17T08:23:43.222996Z"
    }
   },
   "cell_type": "code",
   "source": [
    "import json\n",
    "\n",
    "with open(\"feature_keywords_csLG.json\", \"r\", encoding=\"utf-8\") as f:\n",
    "    all_keywords_results = json.load(f)\n",
    "\n",
    "with open(\"top_activations_csLG.json\", \"r\", encoding=\"utf-8\") as f:\n",
    "    top_activations = json.load(f)"
   ],
   "id": "fbd4459fa224474e",
   "outputs": [],
   "execution_count": 10
  },
  {
   "metadata": {
    "ExecuteTime": {
     "end_time": "2025-04-17T08:24:03.850466Z",
     "start_time": "2025-04-17T08:23:48.378766Z"
    }
   },
   "cell_type": "code",
   "source": [
    "from sentence_transformers import SentenceTransformer, util\n",
    "from sklearn.cluster import DBSCAN\n",
    "from collections import defaultdict\n",
    "from math import log\n",
    "import numpy as np\n",
    "import torch\n",
    "\n",
    "# Parámetros\n",
    "TOP_K = 5\n",
    "SIMILARITY_THRESHOLD = 0.9\n",
    "MERGE_THRESHOLD = 0.9\n",
    "MIN_FEATURES_PER_CLUSTER = 5  # ← aquí defines el mínimo\n",
    "\n",
    "# Modelo\n",
    "embedding_model = SentenceTransformer('all-MiniLM-L6-v2')\n",
    "\n",
    "# Listas para almacenar embeddings y sus IDs\n",
    "feature_ids = []\n",
    "feature_embeddings = []\n",
    "feature_id_to_keywords = {}\n",
    "\n",
    "# Paso 1: Representar cada feature como la media ponderada de sus top K keywords\n",
    "for entry in all_keywords_results:\n",
    "    feature_id = entry[\"feature_id\"]\n",
    "    keywords = entry[\"keywords\"][:TOP_K]\n",
    "    if not keywords:\n",
    "        continue\n",
    "\n",
    "    words = [kw for kw, _ in keywords]\n",
    "    embeddings = embedding_model.encode(words, convert_to_tensor=True)\n",
    "    device = embeddings.device\n",
    "    weights = torch.tensor([score for _, score in keywords], dtype=torch.float32, device=device)\n",
    "    weighted_avg = torch.sum(embeddings * weights[:, None], dim=0) / weights.sum()\n",
    "\n",
    "    feature_ids.append(feature_id)\n",
    "    feature_embeddings.append(weighted_avg)\n",
    "    feature_id_to_keywords[feature_id] = entry[\"keywords\"]\n",
    "\n",
    "# Paso 2: Matriz de embeddings\n",
    "feature_embeddings = np.stack([emb.cpu().numpy() for emb in feature_embeddings])\n",
    "\n",
    "# Paso 3: Clustering con DBSCAN\n",
    "clustering = DBSCAN(eps=1 - SIMILARITY_THRESHOLD, min_samples=1, metric=\"cosine\")\n",
    "labels = clustering.fit_predict(feature_embeddings)\n",
    "\n",
    "# Paso 4: Agrupar por etiqueta\n",
    "clusters = defaultdict(list)\n",
    "for idx, label in enumerate(labels):\n",
    "    clusters[label].append(feature_ids[idx])\n",
    "\n",
    "# Paso 5: Filtrar clusters con al menos 2 features\n",
    "clusters_with_multiple = {cid: feats for cid, feats in clusters.items() if len(feats) > 1}\n",
    "\n",
    "# Paso 6: Calcular la keyword más representativa para cada cluster\n",
    "cluster_representatives = {}\n",
    "for cid, feats in clusters_with_multiple.items():\n",
    "    keyword_scores = defaultdict(float)\n",
    "    keyword_counts = defaultdict(int)\n",
    "\n",
    "    for fid in feats:\n",
    "        for kw, score in feature_id_to_keywords[fid][:TOP_K]:\n",
    "            keyword_scores[kw] += score\n",
    "            keyword_counts[kw] += 1\n",
    "\n",
    "    combined_scores = {\n",
    "        kw: (keyword_scores[kw] / keyword_counts[kw]) * log(1 + keyword_counts[kw])\n",
    "        for kw in keyword_scores\n",
    "    }\n",
    "    representative = max(combined_scores.items(), key=lambda x: x[1])[0]\n",
    "    cluster_representatives[representative] = feats\n",
    "\n",
    "# Paso 7: Agrupar clusters con keywords representativas similares\n",
    "keywords = list(cluster_representatives.keys())\n",
    "keyword_embeddings = embedding_model.encode(keywords, convert_to_tensor=True)\n",
    "\n",
    "merged_clusters = {}\n",
    "used = set()\n",
    "\n",
    "for i in range(len(keywords)):\n",
    "    if i in used:\n",
    "        continue\n",
    "    base_kw = keywords[i]\n",
    "    base_feats = list(cluster_representatives[base_kw])\n",
    "    for j in range(i + 1, len(keywords)):\n",
    "        if j in used:\n",
    "            continue\n",
    "        sim = util.cos_sim(keyword_embeddings[i], keyword_embeddings[j]).item()\n",
    "        if sim >= MERGE_THRESHOLD:\n",
    "            base_feats.extend(cluster_representatives[keywords[j]])\n",
    "            used.add(j)\n",
    "\n",
    "    # Nuevo filtro: solo agregamos si hay suficientes features\n",
    "    if len(base_feats) >= MIN_FEATURES_PER_CLUSTER:\n",
    "        merged_clusters[base_kw] = base_feats"
   ],
   "id": "68475f6d5121e981",
   "outputs": [],
   "execution_count": 11
  },
  {
   "metadata": {
    "ExecuteTime": {
     "end_time": "2025-04-17T08:25:57.574627Z",
     "start_time": "2025-04-17T08:25:57.559873Z"
    }
   },
   "cell_type": "code",
   "source": "merged_clusters.keys()",
   "id": "3bad09801301cc5a",
   "outputs": [
    {
     "data": {
      "text/plain": [
       "dict_keys(['embedding', 'sparse', 'adversarial', 'bandit', 'fairness', 'variational', 'coronavirus', 'gans generative', 'quantum', 'forgetting', 'spiking neural'])"
      ]
     },
     "execution_count": 17,
     "metadata": {},
     "output_type": "execute_result"
    }
   ],
   "execution_count": 17
  },
  {
   "metadata": {
    "ExecuteTime": {
     "end_time": "2025-04-17T08:26:44.980917Z",
     "start_time": "2025-04-17T08:26:44.974170Z"
    }
   },
   "cell_type": "code",
   "source": "merged_clusters[\"sparse\"]",
   "id": "92716c1e998c41da",
   "outputs": [
    {
     "data": {
      "text/plain": [
       "[69, 1291, 1345, 1484, 1574]"
      ]
     },
     "execution_count": 18,
     "metadata": {},
     "output_type": "execute_result"
    }
   ],
   "execution_count": 18
  },
  {
   "metadata": {
    "ExecuteTime": {
     "end_time": "2025-04-17T08:29:38.676652Z",
     "start_time": "2025-04-17T08:29:34.843041Z"
    }
   },
   "cell_type": "code",
   "source": [
    "import numpy as np\n",
    "import matplotlib.pyplot as plt\n",
    "from itertools import combinations\n",
    "\n",
    "# ---------- Helper: gracefully check that needed objects exist ----------\n",
    "needed_vars = [\"Wn\", \"merged_clusters\"]\n",
    "missing = [v for v in needed_vars if v not in globals()]\n",
    "if missing:\n",
    "    raise NameError(f\"Las variables {missing} no existen en el entorno de Python. \"\n",
    "                    \"Asegúrate de haberlas definido antes de ejecutar este bloque.\")\n",
    "\n",
    "# Normalised dictionary (2304, 768)\n",
    "W = Wn.copy()   # alias\n",
    "\n",
    "# ------------- Build mappings -------------\n",
    "cluster_ids = list(merged_clusters.keys())\n",
    "cluster_of_feature = {}\n",
    "for cid in cluster_ids:\n",
    "    for idx in merged_clusters[cid]:\n",
    "        cluster_of_feature[idx] = cid\n",
    "\n",
    "# ------------- Compute intra / inter cosine lists -------------\n",
    "intra = []\n",
    "inter = []\n",
    "\n",
    "for i, j in combinations(range(W.shape[0]), 2):\n",
    "    cos_ij = float(np.dot(W[i], W[j]))  # cosine because vectors are unit‑normed\n",
    "    if cluster_of_feature.get(i) == cluster_of_feature.get(j):\n",
    "        intra.append(cos_ij)\n",
    "    else:\n",
    "        inter.append(cos_ij)\n",
    "\n",
    "intra = np.array(intra)\n",
    "inter = np.array(inter)\n",
    "\n",
    "# ------------- Print basic stats -------------\n",
    "print(f\"Intra‑cluster cosines:  n={len(intra)}  mean={intra.mean():.4f}  std={intra.std():.4f}\")\n",
    "print(f\"Inter‑cluster cosines:  n={len(inter)}  mean={inter.mean():.4f}  std={inter.std():.4f}\")\n",
    "\n",
    "# ------------- Histogram -------------\n",
    "plt.figure(figsize=(6,4))\n",
    "plt.hist(intra, bins=40, alpha=0.5, label='Intra‑cluster', density=True)\n",
    "plt.hist(inter, bins=40, alpha=0.5, label='Inter‑cluster', density=True)\n",
    "plt.legend()\n",
    "plt.title(\"Distribución de cosenos intra vs. inter‑cluster\")\n",
    "plt.xlabel(\"coseno\")\n",
    "plt.ylabel(\"densidad\")\n",
    "plt.tight_layout()\n",
    "plt.show()\n",
    "\n",
    "# ------------- Heatmap of mean cosine per cluster pair -------------\n",
    "K = len(cluster_ids)\n",
    "heat = np.zeros((K, K))\n",
    "\n",
    "for a, cid_a in enumerate(cluster_ids):\n",
    "    for b, cid_b in enumerate(cluster_ids):\n",
    "        feats_a = merged_clusters[cid_a]\n",
    "        feats_b = merged_clusters[cid_b]\n",
    "        heat[a, b] = (W[feats_a] @ W[feats_b].T).mean()\n",
    "\n",
    "plt.figure(figsize=(6,5))\n",
    "plt.imshow(heat, vmin=-0.2, vmax=0.3)\n",
    "plt.colorbar(label=\"coseno medio\")\n",
    "plt.xticks(range(K), cluster_ids, rotation=90)\n",
    "plt.yticks(range(K), cluster_ids)\n",
    "plt.title(\"Coseno medio entre pares de clusters\")\n",
    "plt.tight_layout()\n",
    "plt.show()\n"
   ],
   "id": "be0e8024b4389725",
   "outputs": [
    {
     "name": "stdout",
     "output_type": "stream",
     "text": [
      "Intra‑cluster cosines:  n=2333944  mean=-0.0002  std=0.0450\n",
      "Inter‑cluster cosines:  n=319112  mean=-0.0002  std=0.0448\n"
     ]
    },
    {
     "name": "stderr",
     "output_type": "stream",
     "text": [
      "C:\\Users\\Diego\\AppData\\Local\\Temp\\ipykernel_5320\\690181575.py:49: UserWarning: Glyph 8209 (\\N{NON-BREAKING HYPHEN}) missing from font(s) Arial.\n",
      "  plt.tight_layout()\n",
      "D:\\Escritorio\\PythonProyects\\SparseAutoencodersTFM\\.venv\\lib\\site-packages\\IPython\\core\\pylabtools.py:152: UserWarning: Glyph 8209 (\\N{NON-BREAKING HYPHEN}) missing from font(s) Arial.\n",
      "  fig.canvas.print_figure(bytes_io, **kw)\n"
     ]
    },
    {
     "data": {
      "text/plain": [
       "<Figure size 600x400 with 1 Axes>"
      ],
      "image/png": "[encoded data removed]"
     },
     "metadata": {},
     "output_type": "display_data"
    },
    {
     "data": {
      "text/plain": [
       "<Figure size 600x500 with 2 Axes>"
      ],
      "image/png": "[encoded data removed]"
     },
     "metadata": {},
     "output_type": "display_data"
    }
   ],
   "execution_count": 20
  },
  {
   "metadata": {
    "ExecuteTime": {
     "end_time": "2025-04-17T08:32:15.051516Z",
     "start_time": "2025-04-17T08:32:14.992451Z"
    }
   },
   "cell_type": "code",
   "source": "for cid, feats in merged_clusters.items(): print(cid, (Wn[feats] @ Wn[feats].T).mean())",
   "id": "ac20edb0d7d5e879",
   "outputs": [
    {
     "name": "stdout",
     "output_type": "stream",
     "text": [
      "embedding 0.022264974\n",
      "sparse 0.19895953\n",
      "adversarial 0.12651986\n",
      "bandit 0.086101584\n",
      "fairness 0.10746267\n",
      "variational 0.16522275\n",
      "coronavirus 0.15489957\n",
      "gans generative 0.108525224\n",
      "quantum 0.20175976\n",
      "forgetting 0.16000003\n",
      "spiking neural 0.14761111\n"
     ]
    }
   ],
   "execution_count": 21
  }
 ],
 "metadata": {
  "kernelspec": {
   "display_name": "Python 3",
   "language": "python",
   "name": "python3"
  },
  "language_info": {
   "codemirror_mode": {
    "name": "ipython",
    "version": 2
   },
   "file_extension": ".py",
   "mimetype": "text/x-python",
   "name": "python",
   "nbconvert_exporter": "python",
   "pygments_lexer": "ipython2",
   "version": "2.7.6"
  }
 },
 "nbformat": 4,
 "nbformat_minor": 5
}
