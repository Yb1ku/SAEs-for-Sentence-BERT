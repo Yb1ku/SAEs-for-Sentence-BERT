{
 "cells": [
  {
   "cell_type": "code",
   "id": "initial_id",
   "metadata": {
    "collapsed": true,
    "ExecuteTime": {
     "end_time": "2025-03-30T17:06:54.325128Z",
     "start_time": "2025-03-30T17:06:44.543580Z"
    }
   },
   "source": [
    "import torch\n",
    "import torch.nn as nn\n",
    "import torch.nn.functional as F\n",
    "import wandb\n",
    "from config import get_default_cfg\n",
    "from sae import VanillaSAE, TopKSAE, BatchTopKSAE, JumpReLUSAE\n",
    "import transformer_lens\n",
    "from transformer_lens import HookedTransformer, HookedEncoder\n",
    "from transformers import GPT2Tokenizer, GPT2Model, BertModel, BertTokenizer\n",
    "from datasets import load_dataset\n",
    "import matplotlib.pyplot as plt\n",
    "import json\n",
    "import os\n",
    "import numpy as np"
   ],
   "outputs": [
    {
     "name": "stderr",
     "output_type": "stream",
     "text": [
      "D:\\Escritorio\\PythonProyects\\SparseAutoencodersTFM\\.venv\\lib\\site-packages\\tqdm\\auto.py:21: TqdmWarning: IProgress not found. Please update jupyter and ipywidgets. See https://ipywidgets.readthedocs.io/en/stable/user_install.html\n",
      "  from .autonotebook import tqdm as notebook_tqdm\n"
     ]
    }
   ],
   "execution_count": 1
  },
  {
   "metadata": {},
   "cell_type": "markdown",
   "source": [
    "---\n",
    "### GPT2-SMALL BATCHTOPK SAE ANALYSIS"
   ],
   "id": "7b04d10fd1f41050"
  },
  {
   "metadata": {
    "ExecuteTime": {
     "end_time": "2025-03-29T14:23:52.806790Z",
     "start_time": "2025-03-29T14:23:45.809741Z"
    }
   },
   "cell_type": "code",
   "source": [
    "run = wandb.init()\n",
    "artifact = run.use_artifact('ybiku-unir/SAE_GPT2-small/gpt2-small_blocks.11.hook_resid_pre_6144_batchtopk_32_0.0003_48827:v0', type='model')\n",
    "artifact_dir = artifact.download()\n",
    "\n",
    "config_path = os.path.join(artifact_dir, 'config.json')\n",
    "with open(config_path, 'r') as f:\n",
    "    config = json.load(f)\n",
    "\n",
    "if \"dtype\" in config and isinstance(config[\"dtype\"], str):\n",
    "    if config[\"dtype\"] == \"torch.float32\":\n",
    "        config[\"dtype\"] = torch.float32\n",
    "    elif config[\"dtype\"] == \"torch.float16\":\n",
    "        config[\"dtype\"] = torch.float16\n",
    "\n",
    "sae = BatchTopKSAE(config).to(config[\"device\"])\n",
    "sae.load_state_dict(torch.load(os.path.join(artifact_dir, 'sae.pt')))\n",
    "sae.eval()"
   ],
   "id": "cd06a191097325a",
   "outputs": [
    {
     "name": "stderr",
     "output_type": "stream",
     "text": [
      "Failed to detect the name of this notebook, you can set it manually with the WANDB_NOTEBOOK_NAME environment variable to enable code saving.\n",
      "wandb: Using wandb-core as the SDK backend.  Please refer to https://wandb.me/wandb-core for more information.\n",
      "wandb: Currently logged in as: ybiku (ybiku-unir) to https://api.wandb.ai. Use `wandb login --relogin` to force relogin\n"
     ]
    },
    {
     "data": {
      "text/plain": [
       "<IPython.core.display.HTML object>"
      ],
      "text/html": [
       "Tracking run with wandb version 0.19.8"
      ]
     },
     "metadata": {},
     "output_type": "display_data"
    },
    {
     "data": {
      "text/plain": [
       "<IPython.core.display.HTML object>"
      ],
      "text/html": [
       "Run data is saved locally in <code>D:\\Escritorio\\PythonProyects\\SparseAutoencodersTFM\\wandb\\run-20250329_152350-x61umrei</code>"
      ]
     },
     "metadata": {},
     "output_type": "display_data"
    },
    {
     "data": {
      "text/plain": [
       "<IPython.core.display.HTML object>"
      ],
      "text/html": [
       "Syncing run <strong><a href='https://wandb.ai/ybiku-unir/uncategorized/runs/x61umrei' target=\"_blank\">honest-microwave-5</a></strong> to <a href='https://wandb.ai/ybiku-unir/uncategorized' target=\"_blank\">Weights & Biases</a> (<a href='https://wandb.me/developer-guide' target=\"_blank\">docs</a>)<br>"
      ]
     },
     "metadata": {},
     "output_type": "display_data"
    },
    {
     "data": {
      "text/plain": [
       "<IPython.core.display.HTML object>"
      ],
      "text/html": [
       " View project at <a href='https://wandb.ai/ybiku-unir/uncategorized' target=\"_blank\">https://wandb.ai/ybiku-unir/uncategorized</a>"
      ]
     },
     "metadata": {},
     "output_type": "display_data"
    },
    {
     "data": {
      "text/plain": [
       "<IPython.core.display.HTML object>"
      ],
      "text/html": [
       " View run at <a href='https://wandb.ai/ybiku-unir/uncategorized/runs/x61umrei' target=\"_blank\">https://wandb.ai/ybiku-unir/uncategorized/runs/x61umrei</a>"
      ]
     },
     "metadata": {},
     "output_type": "display_data"
    },
    {
     "name": "stderr",
     "output_type": "stream",
     "text": [
      "wandb:   2 of 2 files downloaded.  \n"
     ]
    },
    {
     "data": {
      "text/plain": [
       "BatchTopKSAE()"
      ]
     },
     "execution_count": 2,
     "metadata": {},
     "output_type": "execute_result"
    }
   ],
   "execution_count": 2
  },
  {
   "metadata": {
    "ExecuteTime": {
     "end_time": "2025-03-29T17:12:58.743078Z",
     "start_time": "2025-03-29T16:27:53.661631Z"
    }
   },
   "cell_type": "code",
   "source": [
    "def hook_fn(act, hook):\n",
    "    activation[hook.name] = act.detach()\n",
    "    return act\n",
    "\n",
    "model = HookedTransformer.from_pretrained(\"gpt2-small\").to(config[\"device\"])\n",
    "hook_point = config[\"hook_point\"]\n",
    "feature_count = torch.ones(config[\"dict_size\"], device=config[\"device\"])\n",
    "num_examples = 0\n",
    "top_examples_per_feature = {i: [] for i in range(config[\"dict_size\"])}\n",
    "\n",
    "dataset = load_dataset(\"EleutherAI/the_pile_deduplicated\", split=\"train\", streaming=True)\n",
    "dataset = dataset.shuffle(seed=config[\"seed\"]).take(int(1e4))\n",
    "\n",
    "for example in dataset:\n",
    "    num_examples += 1\n",
    "    text = example['text']\n",
    "    tokens = model.to_tokens(text, truncate=True, move_to_device=True, prepend_bos=True).squeeze(0)\n",
    "    if tokens.shape[0] > config[\"seq_len\"]:\n",
    "        tokens = tokens[:config[\"seq_len\"]]\n",
    "    elif tokens.shape[0] < config[\"seq_len\"]:\n",
    "        tokens = F.pad(tokens, (0, config[\"seq_len\"] - tokens.shape[0]), value=model.tokenizer.pad_token_id)\n",
    "\n",
    "    activation = {}\n",
    "    with torch.no_grad():\n",
    "        _ = model.run_with_hooks(\n",
    "            tokens,\n",
    "            fwd_hooks=[(hook_point, hook_fn)]\n",
    "        )\n",
    "    activations = activation[hook_point]\n",
    "    batch_activations = activations.reshape(-1, config[\"act_size\"]).to(config[\"device\"])\n",
    "    with torch.no_grad():\n",
    "        sae_output = sae(batch_activations)\n",
    "\n",
    "    feature_acts = sae_output[\"feature_acts\"]\n",
    "    max_activations, _ = torch.max(feature_acts, dim=0)\n",
    "\n",
    "    feature_activations_token = (sae_output[\"feature_acts\"] > 0)\n",
    "    feature_activations_example = feature_activations_token.any(dim=0).int()\n",
    "    feature_count += feature_activations_example\n",
    "\n",
    "    for feature_idx in range(config[\"dict_size\"]):\n",
    "        activation_val = max_activations[feature_idx].item()\n",
    "        if activation_val > 0:  # Solo guardar si hay activación\n",
    "            # Guardar temporalmente todos los ejemplos\n",
    "            top_examples_per_feature[feature_idx].append((activation_val, text))\n",
    "            # Mantenemos ordenada la lista por valor de activación (descendente)\n",
    "            top_examples_per_feature[feature_idx].sort(key=lambda x: x[0], reverse=True)\n",
    "            # Mantenemos solo los 20 mejores ejemplos\n",
    "            if len(top_examples_per_feature[feature_idx]) > 20:\n",
    "                top_examples_per_feature[feature_idx] = top_examples_per_feature[feature_idx][:20]\n",
    "\n",
    "\n",
    "feature_prob = feature_count / num_examples\n",
    "feature_activation_pct = 100 * feature_prob\n",
    "\n",
    "vals = feature_activation_pct.cpu().numpy()\n",
    "num_features = len(vals)"
   ],
   "id": "ae8b3b6e2ba83b43",
   "outputs": [
    {
     "name": "stdout",
     "output_type": "stream",
     "text": [
      "Loaded pretrained model gpt2-small into HookedTransformer\n",
      "Moving model to device:  cuda\n"
     ]
    }
   ],
   "execution_count": 7
  },
  {
   "metadata": {
    "ExecuteTime": {
     "end_time": "2025-03-29T17:12:59.388566Z",
     "start_time": "2025-03-29T17:12:58.836323Z"
    }
   },
   "cell_type": "code",
   "source": [
    "uldc_thresh = 2\n",
    "trivial_thresh = 50\n",
    "uldc_features = (feature_activation_pct < uldc_thresh).sum().item()\n",
    "trivial_features = (feature_activation_pct > trivial_thresh).sum().item()\n",
    "useful_features = num_features - uldc_features - trivial_features\n",
    "\n",
    "\n",
    "counts, bins = np.histogram(vals, bins=100, range=(0,100))\n",
    "counts_pct = (counts / num_features) * 100\n",
    "bin_width = bins[1] - bins[0]\n",
    "plt.figure(figsize=(12, 5))\n",
    "plt.bar(\n",
    "    bins[:-1],\n",
    "    counts_pct,\n",
    "    width=bin_width,\n",
    "    align='edge',\n",
    "    edgecolor='black',\n",
    "    alpha=0.7\n",
    ")\n",
    "info_text = f\"Total: {num_features}\\nULDC: {uldc_features} ({uldc_features/num_features*100:.1f}%)\\nTrivial: {trivial_features} ({trivial_features/num_features*100:.1f}%)\\nNon-trivial: {useful_features} ({useful_features/num_features*100:.1f}%)\"\n",
    "plt.text(\n",
    "    0.98, 0.80, info_text,\n",
    "    transform=plt.gca().transAxes,\n",
    "    fontsize=10,\n",
    "    verticalalignment='top',\n",
    "    horizontalalignment='right',\n",
    "    bbox=dict(boxstyle='round', facecolor='white', alpha=0.8)\n",
    ")\n",
    "plt.axvline(x=uldc_thresh, color='red', linestyle='--', label=f'ULDC Threshold ({uldc_thresh}%)')\n",
    "plt.axvline(x=trivial_thresh, color='red', linestyle='--', label=f'Trivial Threshold ({trivial_thresh}%)')\n",
    "plt.xlabel('Feature fire rate (%)')\n",
    "plt.ylabel('Percentage of features (%)')\n",
    "plt.title('Feature fire rate distribution')\n",
    "plt.grid(axis='y', alpha=0.3)\n",
    "plt.xlim(0, 100)\n",
    "plt.xticks(np.arange(0, 101, 10))\n",
    "plt.tight_layout()\n",
    "plt.legend(loc='upper right')\n",
    "plt.show()"
   ],
   "id": "6f094266d835bdf7",
   "outputs": [
    {
     "data": {
      "text/plain": [
       "<Figure size 1200x500 with 1 Axes>"
      ],
      "image/png": "[encoded data removed]"
     },
     "metadata": {},
     "output_type": "display_data"
    }
   ],
   "execution_count": 8
  },
  {
   "metadata": {
    "ExecuteTime": {
     "end_time": "2025-03-29T17:12:59.667068Z",
     "start_time": "2025-03-29T17:12:59.394620Z"
    }
   },
   "cell_type": "code",
   "source": [
    "for feature_idx in range(config[\"dict_size\"]):\n",
    "    activation_probability = feature_prob[feature_idx].item()\n",
    "    top_examples_per_feature[feature_idx] = {\n",
    "        'feature_id': feature_idx,\n",
    "        'fire_rate': activation_probability,\n",
    "        'top_examples': top_examples_per_feature[feature_idx]\n",
    "    }"
   ],
   "id": "1f7b7b5ed3978bf4",
   "outputs": [],
   "execution_count": 9
  },
  {
   "metadata": {
    "ExecuteTime": {
     "end_time": "2025-03-29T17:13:03.695495Z",
     "start_time": "2025-03-29T17:12:59.729374Z"
    }
   },
   "cell_type": "code",
   "source": [
    "file_name = \"gpt2-small_layer11_resid-pre_batchtopk\"\n",
    "\n",
    "def save_json():\n",
    "    serializable_dict = {}\n",
    "    for feature_idx, feature_data in top_examples_per_feature.items():\n",
    "        serializable_dict[str(feature_idx)] = {\n",
    "        'feature_id': feature_data['feature_id'],\n",
    "        'fire_rate': float(feature_data['fire_rate']),\n",
    "        'top_examples': feature_data['top_examples']\n",
    "        }\n",
    "    with open(f'{file_name}.json', 'w', encoding='utf-8') as f:\n",
    "        json.dump(serializable_dict, f, ensure_ascii=False, indent=2)\n",
    "\n",
    "    print(f\"Dictionary saved as '{file_name}.json'\")\n",
    "\n",
    "save_json()"
   ],
   "id": "8078eb41d72324a7",
   "outputs": [
    {
     "name": "stdout",
     "output_type": "stream",
     "text": [
      "Dictionary saved as 'gpt2-small_layer11_resid-pre_batchtopk.json'\n"
     ]
    }
   ],
   "execution_count": 10
  },
  {
   "metadata": {},
   "cell_type": "markdown",
   "source": "---",
   "id": "56e6302e5753be1d"
  },
  {
   "metadata": {
    "ExecuteTime": {
     "end_time": "2025-03-29T17:36:16.301191Z",
     "start_time": "2025-03-29T17:36:09.043491Z"
    }
   },
   "cell_type": "code",
   "source": [
    "file_name = \"gpt2-small_layer11_resid-pre_batchtopk\"\n",
    "with open(f'{file_name}.json', 'r', encoding='utf-8') as f:\n",
    "    feature_dictionary = json.load(f)\n",
    "    print(f\"Dictionary loaded as '{file_name}.json'\")"
   ],
   "id": "53d3a70dba926c16",
   "outputs": [
    {
     "name": "stdout",
     "output_type": "stream",
     "text": [
      "Dictionary loaded as 'gpt2-small_layer11_resid-pre_batchtopk.json'\n"
     ]
    }
   ],
   "execution_count": 2
  },
  {
   "metadata": {
    "ExecuteTime": {
     "end_time": "2025-03-29T17:46:50.562682Z",
     "start_time": "2025-03-29T17:46:50.544270Z"
    }
   },
   "cell_type": "code",
   "source": [
    "feature_id = \"600\"\n",
    "feature = feature_dictionary[feature_id]\n",
    "fire_rate = feature['fire_rate']\n",
    "top_examples = feature['top_examples']"
   ],
   "id": "71d5dd02cbef8e19",
   "outputs": [],
   "execution_count": 14
  },
  {
   "metadata": {
    "ExecuteTime": {
     "end_time": "2025-03-29T18:00:39.357234Z",
     "start_time": "2025-03-29T18:00:29.544206Z"
    }
   },
   "cell_type": "code",
   "source": [
    "from sentence_transformers import SentenceTransformer\n",
    "\n",
    "model = SentenceTransformer('sentence-transformers/paraphrase-mpnet-base-v2')"
   ],
   "id": "595a21db12215786",
   "outputs": [
    {
     "name": "stdout",
     "output_type": "stream",
     "text": [
      "(2, 768)\n"
     ]
    }
   ],
   "execution_count": 34
  },
  {
   "metadata": {
    "ExecuteTime": {
     "end_time": "2025-03-29T19:14:13.066367Z",
     "start_time": "2025-03-29T19:06:09.636479Z"
    }
   },
   "cell_type": "code",
   "source": [
    "import time\n",
    "\n",
    "def add_embeddings_to_features(feature_dictionary, sbert_model, max_length=128, threshold=76, cooldown=65):\n",
    "    # Crear una versión modificada del diccionario\n",
    "    updated_dict = {}\n",
    "\n",
    "    # Comprobar si podemos monitorizar la temperatura de la GPU\n",
    "    can_monitor_temp = False\n",
    "    try:\n",
    "        import pynvml\n",
    "        pynvml.nvmlInit()\n",
    "        handle = pynvml.nvmlDeviceGetHandleByIndex(0)\n",
    "        can_monitor_temp = True\n",
    "    except Exception as e:\n",
    "        print(f\"No se puede monitorizar la temperatura: {e}\")\n",
    "\n",
    "    # Procesar cada feature\n",
    "    total_features = len(feature_dictionary)\n",
    "    for idx, (feature_id, feature_data) in enumerate(feature_dictionary.items()):\n",
    "        # Mostrar progreso\n",
    "        if idx % 50 == 0:\n",
    "            print(f\"Procesando feature {idx + 1}/{total_features}...\")\n",
    "\n",
    "        # Verificar temperatura si es posible\n",
    "        if can_monitor_temp:\n",
    "            try:\n",
    "                temp = pynvml.nvmlDeviceGetTemperature(handle, pynvml.NVML_TEMPERATURE_GPU)\n",
    "                if temp >= threshold:\n",
    "                    print(f\"⚠️ GPU demasiado caliente ({temp}°C). Esperando hasta que baje a {cooldown}°C...\")\n",
    "                    while True:\n",
    "                        temp = pynvml.nvmlDeviceGetTemperature(handle, pynvml.NVML_TEMPERATURE_GPU)\n",
    "                        if temp <= cooldown:\n",
    "                            print(f\"Temperatura bajó a {temp}°C, continuando procesamiento...\")\n",
    "                            break\n",
    "                        time.sleep(5)  # Esperar 5 segundos entre comprobaciones\n",
    "            except Exception as e:\n",
    "                print(f\"Error al verificar temperatura: {e}\")\n",
    "\n",
    "        # Extraer los ejemplos\n",
    "        top_examples = feature_data['top_examples']\n",
    "        updated_examples = []\n",
    "\n",
    "        # Truncar/hacer padding a los textos\n",
    "        processed_texts = []\n",
    "        for act_val, text in top_examples:\n",
    "            # Truncar si es necesario\n",
    "            if len(text) > max_length:\n",
    "                processed_text = text[:max_length]\n",
    "            else:\n",
    "                # Hacer padding si es necesario\n",
    "                padding_needed = max_length - len(text)\n",
    "                processed_text = text + \" \" * padding_needed\n",
    "\n",
    "            processed_texts.append(processed_text)\n",
    "\n",
    "        # Calcular embeddings en lote para mayor eficiencia\n",
    "        with torch.no_grad():\n",
    "            embeddings = sbert_model.encode(processed_texts)\n",
    "\n",
    "        # Agregar embedding a cada ejemplo\n",
    "        for i, (act_val, text) in enumerate(top_examples):\n",
    "            # Convertir numpy array a lista para serialización JSON\n",
    "            embedding = embeddings[i].tolist()\n",
    "            # Mantenemos el texto original en el resultado final\n",
    "            updated_examples.append([act_val, text, embedding])\n",
    "\n",
    "        # Actualizar el diccionario\n",
    "        updated_dict[feature_id] = {\n",
    "            'feature_id': feature_data['feature_id'],\n",
    "            'fire_rate': feature_data['fire_rate'],\n",
    "            'top_examples': updated_examples\n",
    "        }\n",
    "\n",
    "    # Cerrar pynvml si se inicializó\n",
    "    if can_monitor_temp:\n",
    "        try:\n",
    "            pynvml.nvmlShutdown()\n",
    "        except:\n",
    "            pass\n",
    "\n",
    "    return updated_dict\n",
    "\n",
    "updated_feature_dictionary = add_embeddings_to_features(feature_dictionary, model, max_length=128)\n",
    "# Guardar el diccionario actualizado con embeddings\n",
    "updated_file_name = f\"{file_name}_with_embeddings\"\n",
    "with open(f'{updated_file_name}.json', 'w', encoding='utf-8') as f:\n",
    "    json.dump(updated_feature_dictionary, f, ensure_ascii=False, indent=2)\n",
    "\n",
    "print(f\"Diccionario con embeddings guardado como '{updated_file_name}.json'\")"
   ],
   "id": "738fa37cd565c94a",
   "outputs": [
    {
     "name": "stdout",
     "output_type": "stream",
     "text": [
      "Procesando feature 1/6144...\n",
      "Procesando feature 51/6144...\n",
      "Procesando feature 101/6144...\n",
      "Procesando feature 151/6144...\n",
      "Procesando feature 201/6144...\n",
      "Procesando feature 251/6144...\n",
      "Procesando feature 301/6144...\n",
      "Procesando feature 351/6144...\n",
      "Procesando feature 401/6144...\n",
      "Procesando feature 451/6144...\n",
      "Procesando feature 501/6144...\n",
      "Procesando feature 551/6144...\n",
      "Procesando feature 601/6144...\n",
      "Procesando feature 651/6144...\n",
      "Procesando feature 701/6144...\n",
      "Procesando feature 751/6144...\n",
      "Procesando feature 801/6144...\n",
      "Procesando feature 851/6144...\n",
      "Procesando feature 901/6144...\n",
      "Procesando feature 951/6144...\n",
      "Procesando feature 1001/6144...\n",
      "Procesando feature 1051/6144...\n",
      "Procesando feature 1101/6144...\n",
      "Procesando feature 1151/6144...\n",
      "Procesando feature 1201/6144...\n",
      "Procesando feature 1251/6144...\n",
      "Procesando feature 1301/6144...\n",
      "Procesando feature 1351/6144...\n",
      "Procesando feature 1401/6144...\n",
      "Procesando feature 1451/6144...\n",
      "Procesando feature 1501/6144...\n",
      "Procesando feature 1551/6144...\n",
      "Procesando feature 1601/6144...\n",
      "⚠️ GPU demasiado caliente (76°C). Esperando hasta que baje a 65°C...\n",
      "Temperatura bajó a 63°C, continuando procesamiento...\n",
      "Procesando feature 1651/6144...\n",
      "Procesando feature 1701/6144...\n",
      "Procesando feature 1751/6144...\n",
      "Procesando feature 1801/6144...\n",
      "Procesando feature 1851/6144...\n",
      "Procesando feature 1901/6144...\n",
      "Procesando feature 1951/6144...\n",
      "Procesando feature 2001/6144...\n",
      "⚠️ GPU demasiado caliente (76°C). Esperando hasta que baje a 65°C...\n",
      "Temperatura bajó a 63°C, continuando procesamiento...\n",
      "Procesando feature 2051/6144...\n",
      "Procesando feature 2101/6144...\n",
      "Procesando feature 2151/6144...\n",
      "Procesando feature 2201/6144...\n",
      "Procesando feature 2251/6144...\n",
      "Procesando feature 2301/6144...\n",
      "Procesando feature 2351/6144...\n",
      "⚠️ GPU demasiado caliente (76°C). Esperando hasta que baje a 65°C...\n",
      "Temperatura bajó a 63°C, continuando procesamiento...\n",
      "Procesando feature 2401/6144...\n",
      "Procesando feature 2451/6144...\n",
      "Procesando feature 2501/6144...\n",
      "Procesando feature 2551/6144...\n",
      "Procesando feature 2601/6144...\n",
      "Procesando feature 2651/6144...\n",
      "Procesando feature 2701/6144...\n",
      "⚠️ GPU demasiado caliente (76°C). Esperando hasta que baje a 65°C...\n",
      "Temperatura bajó a 64°C, continuando procesamiento...\n",
      "Procesando feature 2751/6144...\n",
      "Procesando feature 2801/6144...\n",
      "Procesando feature 2851/6144...\n",
      "Procesando feature 2901/6144...\n",
      "Procesando feature 2951/6144...\n",
      "Procesando feature 3001/6144...\n",
      "Procesando feature 3051/6144...\n",
      "⚠️ GPU demasiado caliente (76°C). Esperando hasta que baje a 65°C...\n",
      "Temperatura bajó a 64°C, continuando procesamiento...\n",
      "Procesando feature 3101/6144...\n",
      "Procesando feature 3151/6144...\n",
      "Procesando feature 3201/6144...\n",
      "Procesando feature 3251/6144...\n",
      "Procesando feature 3301/6144...\n",
      "Procesando feature 3351/6144...\n",
      "Procesando feature 3401/6144...\n",
      "⚠️ GPU demasiado caliente (76°C). Esperando hasta que baje a 65°C...\n",
      "Temperatura bajó a 64°C, continuando procesamiento...\n",
      "Procesando feature 3451/6144...\n",
      "Procesando feature 3501/6144...\n",
      "Procesando feature 3551/6144...\n",
      "Procesando feature 3601/6144...\n",
      "Procesando feature 3651/6144...\n",
      "Procesando feature 3701/6144...\n",
      "Procesando feature 3751/6144...\n",
      "⚠️ GPU demasiado caliente (76°C). Esperando hasta que baje a 65°C...\n",
      "Temperatura bajó a 64°C, continuando procesamiento...\n",
      "Procesando feature 3801/6144...\n",
      "Procesando feature 3851/6144...\n",
      "Procesando feature 3901/6144...\n",
      "Procesando feature 3951/6144...\n",
      "Procesando feature 4001/6144...\n",
      "Procesando feature 4051/6144...\n",
      "⚠️ GPU demasiado caliente (76°C). Esperando hasta que baje a 65°C...\n",
      "Temperatura bajó a 64°C, continuando procesamiento...\n",
      "Procesando feature 4101/6144...\n",
      "Procesando feature 4151/6144...\n",
      "Procesando feature 4201/6144...\n",
      "Procesando feature 4251/6144...\n",
      "Procesando feature 4301/6144...\n",
      "Procesando feature 4351/6144...\n",
      "⚠️ GPU demasiado caliente (76°C). Esperando hasta que baje a 65°C...\n",
      "Temperatura bajó a 64°C, continuando procesamiento...\n",
      "Procesando feature 4401/6144...\n",
      "Procesando feature 4451/6144...\n",
      "Procesando feature 4501/6144...\n",
      "Procesando feature 4551/6144...\n",
      "Procesando feature 4601/6144...\n",
      "⚠️ GPU demasiado caliente (76°C). Esperando hasta que baje a 65°C...\n",
      "Temperatura bajó a 64°C, continuando procesamiento...\n",
      "Procesando feature 4651/6144...\n",
      "Procesando feature 4701/6144...\n",
      "Procesando feature 4751/6144...\n",
      "Procesando feature 4801/6144...\n",
      "Procesando feature 4851/6144...\n",
      "Procesando feature 4901/6144...\n",
      "⚠️ GPU demasiado caliente (76°C). Esperando hasta que baje a 65°C...\n",
      "Temperatura bajó a 64°C, continuando procesamiento...\n",
      "Procesando feature 4951/6144...\n",
      "Procesando feature 5001/6144...\n",
      "Procesando feature 5051/6144...\n",
      "Procesando feature 5101/6144...\n",
      "Procesando feature 5151/6144...\n",
      "Procesando feature 5201/6144...\n",
      "⚠️ GPU demasiado caliente (76°C). Esperando hasta que baje a 65°C...\n",
      "Temperatura bajó a 64°C, continuando procesamiento...\n",
      "Procesando feature 5251/6144...\n",
      "Procesando feature 5301/6144...\n",
      "Procesando feature 5351/6144...\n",
      "Procesando feature 5401/6144...\n",
      "Procesando feature 5451/6144...\n",
      "⚠️ GPU demasiado caliente (76°C). Esperando hasta que baje a 65°C...\n",
      "Temperatura bajó a 64°C, continuando procesamiento...\n",
      "Procesando feature 5501/6144...\n",
      "Procesando feature 5551/6144...\n",
      "Procesando feature 5601/6144...\n",
      "Procesando feature 5651/6144...\n",
      "Procesando feature 5701/6144...\n",
      "Procesando feature 5751/6144...\n",
      "⚠️ GPU demasiado caliente (76°C). Esperando hasta que baje a 65°C...\n",
      "Temperatura bajó a 64°C, continuando procesamiento...\n",
      "Procesando feature 5801/6144...\n",
      "Procesando feature 5851/6144...\n",
      "Procesando feature 5901/6144...\n",
      "Procesando feature 5951/6144...\n",
      "Procesando feature 6001/6144...\n",
      "Procesando feature 6051/6144...\n",
      "⚠️ GPU demasiado caliente (76°C). Esperando hasta que baje a 65°C...\n",
      "Temperatura bajó a 64°C, continuando procesamiento...\n",
      "Procesando feature 6101/6144...\n",
      "Diccionario con embeddings guardado como 'gpt2-small_layer11_resid-pre_batchtopk_with_embeddings.json'\n"
     ]
    }
   ],
   "execution_count": 39
  },
  {
   "metadata": {},
   "cell_type": "markdown",
   "source": [
    "---\n",
    "### BERT-BASE-UNCASED BATCHTOPK SAE ANALYSIS"
   ],
   "id": "2d4b74f76e31326d"
  },
  {
   "metadata": {
    "ExecuteTime": {
     "end_time": "2025-03-30T12:15:55.907820Z",
     "start_time": "2025-03-30T12:15:49.017299Z"
    }
   },
   "cell_type": "code",
   "source": [
    "run = wandb.init()\n",
    "artifact = run.use_artifact('ybiku-unir/SAE_BERT/bert-base-uncased_blocks.11.hook_resid_pre_6144_batchtopk_32_0.0003_30000:v0', type='model')\n",
    "artifact_dir = artifact.download()\n",
    "\n",
    "config_path = os.path.join(artifact_dir, 'config.json')\n",
    "with open(config_path, 'r') as f:\n",
    "    config = json.load(f)\n",
    "\n",
    "if \"dtype\" in config and isinstance(config[\"dtype\"], str):\n",
    "    if config[\"dtype\"] == \"torch.float32\":\n",
    "        config[\"dtype\"] = torch.float32\n",
    "    elif config[\"dtype\"] == \"torch.float16\":\n",
    "        config[\"dtype\"] = torch.float16\n",
    "\n",
    "sae = BatchTopKSAE(config).to(config[\"device\"])\n",
    "sae.load_state_dict(torch.load(os.path.join(artifact_dir, 'sae.pt')))\n",
    "sae.eval()"
   ],
   "id": "c86af3936adb5e92",
   "outputs": [
    {
     "name": "stderr",
     "output_type": "stream",
     "text": [
      "wandb: Using wandb-core as the SDK backend.  Please refer to https://wandb.me/wandb-core for more information.\n",
      "wandb: Currently logged in as: ybiku (ybiku-unir) to https://api.wandb.ai. Use `wandb login --relogin` to force relogin\n"
     ]
    },
    {
     "data": {
      "text/plain": [
       "<IPython.core.display.HTML object>"
      ],
      "text/html": [
       "Tracking run with wandb version 0.19.8"
      ]
     },
     "metadata": {},
     "output_type": "display_data"
    },
    {
     "data": {
      "text/plain": [
       "<IPython.core.display.HTML object>"
      ],
      "text/html": [
       "Run data is saved locally in <code>D:\\Escritorio\\PythonProyects\\SparseAutoencodersTFM\\wandb\\run-20250330_141550-fho3sfdr</code>"
      ]
     },
     "metadata": {},
     "output_type": "display_data"
    },
    {
     "data": {
      "text/plain": [
       "<IPython.core.display.HTML object>"
      ],
      "text/html": [
       "Syncing run <strong><a href='https://wandb.ai/ybiku-unir/uncategorized/runs/fho3sfdr' target=\"_blank\">lively-paper-6</a></strong> to <a href='https://wandb.ai/ybiku-unir/uncategorized' target=\"_blank\">Weights & Biases</a> (<a href='https://wandb.me/developer-guide' target=\"_blank\">docs</a>)<br>"
      ]
     },
     "metadata": {},
     "output_type": "display_data"
    },
    {
     "data": {
      "text/plain": [
       "<IPython.core.display.HTML object>"
      ],
      "text/html": [
       " View project at <a href='https://wandb.ai/ybiku-unir/uncategorized' target=\"_blank\">https://wandb.ai/ybiku-unir/uncategorized</a>"
      ]
     },
     "metadata": {},
     "output_type": "display_data"
    },
    {
     "data": {
      "text/plain": [
       "<IPython.core.display.HTML object>"
      ],
      "text/html": [
       " View run at <a href='https://wandb.ai/ybiku-unir/uncategorized/runs/fho3sfdr' target=\"_blank\">https://wandb.ai/ybiku-unir/uncategorized/runs/fho3sfdr</a>"
      ]
     },
     "metadata": {},
     "output_type": "display_data"
    },
    {
     "name": "stderr",
     "output_type": "stream",
     "text": [
      "wandb:   2 of 2 files downloaded.  \n"
     ]
    },
    {
     "data": {
      "text/plain": [
       "BatchTopKSAE()"
      ]
     },
     "execution_count": 3,
     "metadata": {},
     "output_type": "execute_result"
    }
   ],
   "execution_count": 3
  },
  {
   "metadata": {
    "ExecuteTime": {
     "end_time": "2025-03-30T13:08:42.968815Z",
     "start_time": "2025-03-30T12:21:44.606619Z"
    }
   },
   "cell_type": "code",
   "source": [
    "def hook_fn(act, hook):\n",
    "    activation[hook.name] = act.detach()\n",
    "    return act\n",
    "\n",
    "model = HookedEncoder.from_pretrained(\"bert-base-uncased\").to(config[\"device\"])\n",
    "hook_point = config[\"hook_point\"]\n",
    "feature_count = torch.ones(config[\"dict_size\"], device=config[\"device\"])\n",
    "num_examples = 0\n",
    "top_examples_per_feature = {i: [] for i in range(config[\"dict_size\"])}\n",
    "\n",
    "dataset = load_dataset(\"EleutherAI/the_pile_deduplicated\", split=\"train\", streaming=True)\n",
    "dataset = dataset.shuffle(seed=config[\"seed\"]).take(int(1e4))\n",
    "\n",
    "for example in dataset:\n",
    "    num_examples += 1\n",
    "    text = example['text']\n",
    "    tokens_tuple = model.to_tokens(text, truncate=True, move_to_device=True)\n",
    "    tokens = tokens_tuple[0].squeeze(0)\n",
    "    if tokens.shape[0] > config[\"seq_len\"]:\n",
    "        tokens = tokens[:config[\"seq_len\"]]\n",
    "    elif tokens.shape[0] < config[\"seq_len\"]:\n",
    "        tokens = F.pad(tokens, (0, config[\"seq_len\"] - tokens.shape[0]), value=model.tokenizer.pad_token_id)\n",
    "\n",
    "    activation = {}\n",
    "    with torch.no_grad():\n",
    "        _ = model.run_with_hooks(\n",
    "            tokens.unsqueeze(0),\n",
    "            fwd_hooks=[(hook_point, hook_fn)]\n",
    "        )\n",
    "    activations = activation[hook_point]\n",
    "    batch_activations = activations.reshape(-1, config[\"act_size\"]).to(config[\"device\"])\n",
    "    with torch.no_grad():\n",
    "        sae_output = sae(batch_activations)\n",
    "\n",
    "    feature_acts = sae_output[\"feature_acts\"]\n",
    "    max_activations, _ = torch.max(feature_acts, dim=0)\n",
    "\n",
    "    feature_activations_token = (sae_output[\"feature_acts\"] > 0)\n",
    "    feature_activations_example = feature_activations_token.any(dim=0).int()\n",
    "    feature_count += feature_activations_example\n",
    "\n",
    "    for feature_idx in range(config[\"dict_size\"]):\n",
    "        activation_val = max_activations[feature_idx].item()\n",
    "        if activation_val > 0:  # Solo guardar si hay activación\n",
    "            # Guardar temporalmente todos los ejemplos\n",
    "            top_examples_per_feature[feature_idx].append((activation_val, text))\n",
    "            # Mantenemos ordenada la lista por valor de activación (descendente)\n",
    "            top_examples_per_feature[feature_idx].sort(key=lambda x: x[0], reverse=True)\n",
    "            # Mantenemos solo los 20 mejores ejemplos\n",
    "            if len(top_examples_per_feature[feature_idx]) > 20:\n",
    "                top_examples_per_feature[feature_idx] = top_examples_per_feature[feature_idx][:20]\n",
    "\n",
    "\n",
    "feature_prob = feature_count / num_examples\n",
    "feature_activation_pct = 100 * feature_prob\n",
    "\n",
    "vals = feature_activation_pct.cpu().numpy()\n",
    "num_features = len(vals)"
   ],
   "id": "6379f0bf7d4a909a",
   "outputs": [
    {
     "name": "stderr",
     "output_type": "stream",
     "text": [
      "WARNING:root:Support for BERT in TransformerLens is currently experimental, until such a time when it has feature parity with HookedTransformer and has been tested on real research tasks. Until then, backward compatibility is not guaranteed. Please see the docs for information on the limitations of the current implementation.\n",
      "If using BERT for interpretability research, keep in mind that BERT has some significant architectural differences to GPT. For example, LayerNorms are applied *after* the attention and MLP components, meaning that the last LayerNorm in a block cannot be folded.\n"
     ]
    },
    {
     "name": "stdout",
     "output_type": "stream",
     "text": [
      "Moving model to device:  cuda\n",
      "Loaded pretrained model bert-base-uncased into HookedEncoder\n",
      "Moving model to device:  cuda\n"
     ]
    }
   ],
   "execution_count": 8
  },
  {
   "metadata": {
    "ExecuteTime": {
     "end_time": "2025-03-30T13:08:43.253252Z",
     "start_time": "2025-03-30T13:08:43.064066Z"
    }
   },
   "cell_type": "code",
   "source": [
    "uldc_thresh = 2\n",
    "trivial_thresh = 50\n",
    "uldc_features = (feature_activation_pct < uldc_thresh).sum().item()\n",
    "trivial_features = (feature_activation_pct > trivial_thresh).sum().item()\n",
    "useful_features = num_features - uldc_features - trivial_features\n",
    "\n",
    "\n",
    "counts, bins = np.histogram(vals, bins=100, range=(0,100))\n",
    "counts_pct = (counts / num_features) * 100\n",
    "bin_width = bins[1] - bins[0]\n",
    "plt.figure(figsize=(12, 5))\n",
    "plt.bar(\n",
    "    bins[:-1],\n",
    "    counts_pct,\n",
    "    width=bin_width,\n",
    "    align='edge',\n",
    "    edgecolor='black',\n",
    "    alpha=0.7\n",
    ")\n",
    "info_text = f\"Total: {num_features}\\nULDC: {uldc_features} ({uldc_features/num_features*100:.1f}%)\\nTrivial: {trivial_features} ({trivial_features/num_features*100:.1f}%)\\nNon-trivial: {useful_features} ({useful_features/num_features*100:.1f}%)\"\n",
    "plt.text(\n",
    "    0.98, 0.80, info_text,\n",
    "    transform=plt.gca().transAxes,\n",
    "    fontsize=10,\n",
    "    verticalalignment='top',\n",
    "    horizontalalignment='right',\n",
    "    bbox=dict(boxstyle='round', facecolor='white', alpha=0.8)\n",
    ")\n",
    "plt.axvline(x=uldc_thresh, color='red', linestyle='--', label=f'ULDC Threshold ({uldc_thresh}%)')\n",
    "plt.axvline(x=trivial_thresh, color='red', linestyle='--', label=f'Trivial Threshold ({trivial_thresh}%)')\n",
    "plt.xlabel('Feature fire rate (%)')\n",
    "plt.ylabel('Percentage of features (%)')\n",
    "plt.title('Feature fire rate distribution')\n",
    "plt.grid(axis='y', alpha=0.3)\n",
    "plt.xlim(0, 100)\n",
    "plt.xticks(np.arange(0, 101, 10))\n",
    "plt.tight_layout()\n",
    "plt.legend(loc='upper right')\n",
    "plt.show()"
   ],
   "id": "1b31d69ac4cd6e31",
   "outputs": [
    {
     "data": {
      "text/plain": [
       "<Figure size 1200x500 with 1 Axes>"
      ],
      "image/png": "[encoded data removed]"
     },
     "metadata": {},
     "output_type": "display_data"
    }
   ],
   "execution_count": 9
  },
  {
   "metadata": {
    "ExecuteTime": {
     "end_time": "2025-03-30T13:08:51.184843Z",
     "start_time": "2025-03-30T13:08:43.262229Z"
    }
   },
   "cell_type": "code",
   "source": [
    "for feature_idx in range(config[\"dict_size\"]):\n",
    "    activation_probability = feature_prob[feature_idx].item()\n",
    "    top_examples_per_feature[feature_idx] = {\n",
    "        'feature_id': feature_idx,\n",
    "        'fire_rate': activation_probability,\n",
    "        'top_examples': top_examples_per_feature[feature_idx]\n",
    "    }\n",
    "file_name = \"bert-basse-uncased_layer11_resid-pre_batchtopk\"\n",
    "\n",
    "\n",
    "def save_json():\n",
    "    serializable_dict = {}\n",
    "    for feature_idx, feature_data in top_examples_per_feature.items():\n",
    "        serializable_dict[str(feature_idx)] = {\n",
    "            'feature_id': feature_data['feature_id'],\n",
    "            'fire_rate': float(feature_data['fire_rate']),\n",
    "            'top_examples': feature_data['top_examples']\n",
    "        }\n",
    "    with open(f'{file_name}.json', 'w', encoding='utf-8') as f:\n",
    "        json.dump(serializable_dict, f, ensure_ascii=False, indent=2)\n",
    "\n",
    "    print(f\"Dictionary saved as '{file_name}.json'\")\n",
    "\n",
    "save_json()\n",
    "\n",
    "with open(f'{file_name}.json', 'r', encoding='utf-8') as f:\n",
    "    feature_dictionary = json.load(f)\n",
    "    print(f\"Dictionary loaded as '{file_name}.json'\")\n",
    "feature_id = \"600\"\n",
    "feature = feature_dictionary[feature_id]\n",
    "fire_rate = feature['fire_rate']\n",
    "top_examples = feature['top_examples']"
   ],
   "id": "2accea26b6fc8081",
   "outputs": [
    {
     "name": "stdout",
     "output_type": "stream",
     "text": [
      "Dictionary saved as 'bert-basse-uncased_layer11_resid-pre_batchtopk.json'\n",
      "Dictionary loaded as 'bert-basse-uncased_layer11_resid-pre_batchtopk.json'\n"
     ]
    }
   ],
   "execution_count": 10
  },
  {
   "metadata": {
    "ExecuteTime": {
     "end_time": "2025-03-30T13:08:54.291551Z",
     "start_time": "2025-03-30T13:08:51.280038Z"
    }
   },
   "cell_type": "code",
   "source": [
    "from sentence_transformers import SentenceTransformer\n",
    "\n",
    "model = SentenceTransformer('sentence-transformers/paraphrase-mpnet-base-v2')"
   ],
   "id": "d45863175f1972c7",
   "outputs": [],
   "execution_count": 11
  },
  {
   "metadata": {
    "ExecuteTime": {
     "end_time": "2025-03-30T13:15:58.214783Z",
     "start_time": "2025-03-30T13:08:54.370471Z"
    }
   },
   "cell_type": "code",
   "source": [
    "import time\n",
    "\n",
    "\n",
    "def add_embeddings_to_features(feature_dictionary, sbert_model, max_length=128, threshold=76, cooldown=65):\n",
    "    # Crear una versión modificada del diccionario\n",
    "    updated_dict = {}\n",
    "\n",
    "    # Comprobar si podemos monitorizar la temperatura de la GPU\n",
    "    can_monitor_temp = False\n",
    "    try:\n",
    "        import pynvml\n",
    "        pynvml.nvmlInit()\n",
    "        handle = pynvml.nvmlDeviceGetHandleByIndex(0)\n",
    "        can_monitor_temp = True\n",
    "    except Exception as e:\n",
    "        print(f\"No se puede monitorizar la temperatura: {e}\")\n",
    "\n",
    "    # Procesar cada feature\n",
    "    total_features = len(feature_dictionary)\n",
    "    for idx, (feature_id, feature_data) in enumerate(feature_dictionary.items()):\n",
    "        # Mostrar progreso\n",
    "        if idx % 50 == 0:\n",
    "            print(f\"Procesando feature {idx + 1}/{total_features}...\")\n",
    "\n",
    "        # Verificar temperatura si es posible\n",
    "        if can_monitor_temp:\n",
    "            try:\n",
    "                temp = pynvml.nvmlDeviceGetTemperature(handle, pynvml.NVML_TEMPERATURE_GPU)\n",
    "                if temp >= threshold:\n",
    "                    print(f\"⚠️ GPU demasiado caliente ({temp}°C). Esperando hasta que baje a {cooldown}°C...\")\n",
    "                    while True:\n",
    "                        temp = pynvml.nvmlDeviceGetTemperature(handle, pynvml.NVML_TEMPERATURE_GPU)\n",
    "                        if temp <= cooldown:\n",
    "                            print(f\"Temperatura bajó a {temp}°C, continuando procesamiento...\")\n",
    "                            break\n",
    "                        time.sleep(5)  # Esperar 5 segundos entre comprobaciones\n",
    "            except Exception as e:\n",
    "                print(f\"Error al verificar temperatura: {e}\")\n",
    "\n",
    "        # Extraer los ejemplos\n",
    "        top_examples = feature_data['top_examples']\n",
    "        updated_examples = []\n",
    "\n",
    "        # Truncar/hacer padding a los textos\n",
    "        processed_texts = []\n",
    "        for act_val, text in top_examples:\n",
    "            # Truncar si es necesario\n",
    "            if len(text) > max_length:\n",
    "                processed_text = text[:max_length]\n",
    "            else:\n",
    "                # Hacer padding si es necesario\n",
    "                padding_needed = max_length - len(text)\n",
    "                processed_text = text + \" \" * padding_needed\n",
    "\n",
    "            processed_texts.append(processed_text)\n",
    "\n",
    "        # Calcular embeddings en lote para mayor eficiencia\n",
    "        with torch.no_grad():\n",
    "            embeddings = sbert_model.encode(processed_texts)\n",
    "\n",
    "        # Agregar embedding a cada ejemplo\n",
    "        for i, (act_val, text) in enumerate(top_examples):\n",
    "            # Convertir numpy array a lista para serialización JSON\n",
    "            embedding = embeddings[i].tolist()\n",
    "            # Mantenemos el texto original en el resultado final\n",
    "            updated_examples.append([act_val, text, embedding])\n",
    "\n",
    "        # Actualizar el diccionario\n",
    "        updated_dict[feature_id] = {\n",
    "            'feature_id': feature_data['feature_id'],\n",
    "            'fire_rate': feature_data['fire_rate'],\n",
    "            'top_examples': updated_examples\n",
    "        }\n",
    "\n",
    "    # Cerrar pynvml si se inicializó\n",
    "    if can_monitor_temp:\n",
    "        try:\n",
    "            pynvml.nvmlShutdown()\n",
    "        except:\n",
    "            pass\n",
    "\n",
    "    return updated_dict\n",
    "\n",
    "\n",
    "updated_feature_dictionary = add_embeddings_to_features(feature_dictionary, model, max_length=128)\n",
    "# Guardar el diccionario actualizado con embeddings\n",
    "updated_file_name = f\"{file_name}_with_embeddings\"\n",
    "with open(f'{updated_file_name}.json', 'w', encoding='utf-8') as f:\n",
    "    json.dump(updated_feature_dictionary, f, ensure_ascii=False, indent=2)\n",
    "\n",
    "print(f\"Diccionario con embeddings guardado como '{updated_file_name}.json'\")"
   ],
   "id": "aefa9ff3ebadd84e",
   "outputs": [
    {
     "name": "stdout",
     "output_type": "stream",
     "text": [
      "Procesando feature 1/6144...\n",
      "Procesando feature 51/6144...\n",
      "Procesando feature 101/6144...\n",
      "Procesando feature 151/6144...\n",
      "Procesando feature 201/6144...\n",
      "Procesando feature 251/6144...\n",
      "Procesando feature 301/6144...\n",
      "Procesando feature 351/6144...\n",
      "Procesando feature 401/6144...\n",
      "Procesando feature 451/6144...\n",
      "Procesando feature 501/6144...\n",
      "Procesando feature 551/6144...\n",
      "Procesando feature 601/6144...\n",
      "Procesando feature 651/6144...\n",
      "Procesando feature 701/6144...\n",
      "Procesando feature 751/6144...\n",
      "Procesando feature 801/6144...\n",
      "Procesando feature 851/6144...\n",
      "Procesando feature 901/6144...\n",
      "Procesando feature 951/6144...\n",
      "Procesando feature 1001/6144...\n",
      "Procesando feature 1051/6144...\n",
      "Procesando feature 1101/6144...\n",
      "Procesando feature 1151/6144...\n",
      "Procesando feature 1201/6144...\n",
      "Procesando feature 1251/6144...\n",
      "Procesando feature 1301/6144...\n",
      "Procesando feature 1351/6144...\n",
      "Procesando feature 1401/6144...\n",
      "Procesando feature 1451/6144...\n",
      "Procesando feature 1501/6144...\n",
      "Procesando feature 1551/6144...\n",
      "Procesando feature 1601/6144...\n",
      "Procesando feature 1651/6144...\n",
      "Procesando feature 1701/6144...\n",
      "Procesando feature 1751/6144...\n",
      "⚠️ GPU demasiado caliente (76°C). Esperando hasta que baje a 65°C...\n",
      "Temperatura bajó a 65°C, continuando procesamiento...\n",
      "Procesando feature 1801/6144...\n",
      "Procesando feature 1851/6144...\n",
      "Procesando feature 1901/6144...\n",
      "Procesando feature 1951/6144...\n",
      "Procesando feature 2001/6144...\n",
      "Procesando feature 2051/6144...\n",
      "Procesando feature 2101/6144...\n",
      "⚠️ GPU demasiado caliente (76°C). Esperando hasta que baje a 65°C...\n",
      "Temperatura bajó a 63°C, continuando procesamiento...\n",
      "Procesando feature 2151/6144...\n",
      "Procesando feature 2201/6144...\n",
      "Procesando feature 2251/6144...\n",
      "Procesando feature 2301/6144...\n",
      "Procesando feature 2351/6144...\n",
      "Procesando feature 2401/6144...\n",
      "Procesando feature 2451/6144...\n",
      "Procesando feature 2501/6144...\n",
      "Procesando feature 2551/6144...\n",
      "Procesando feature 2601/6144...\n",
      "⚠️ GPU demasiado caliente (76°C). Esperando hasta que baje a 65°C...\n",
      "Temperatura bajó a 65°C, continuando procesamiento...\n",
      "Procesando feature 2651/6144...\n",
      "Procesando feature 2701/6144...\n",
      "Procesando feature 2751/6144...\n",
      "Procesando feature 2801/6144...\n",
      "Procesando feature 2851/6144...\n",
      "⚠️ GPU demasiado caliente (76°C). Esperando hasta que baje a 65°C...\n",
      "Temperatura bajó a 65°C, continuando procesamiento...\n",
      "Procesando feature 2901/6144...\n",
      "Procesando feature 2951/6144...\n",
      "Procesando feature 3001/6144...\n",
      "Procesando feature 3051/6144...\n",
      "Procesando feature 3101/6144...\n",
      "⚠️ GPU demasiado caliente (76°C). Esperando hasta que baje a 65°C...\n",
      "Temperatura bajó a 65°C, continuando procesamiento...\n",
      "Procesando feature 3151/6144...\n",
      "Procesando feature 3201/6144...\n",
      "Procesando feature 3251/6144...\n",
      "Procesando feature 3301/6144...\n",
      "Procesando feature 3351/6144...\n",
      "Procesando feature 3401/6144...\n",
      "⚠️ GPU demasiado caliente (76°C). Esperando hasta que baje a 65°C...\n",
      "Temperatura bajó a 63°C, continuando procesamiento...\n",
      "Procesando feature 3451/6144...\n",
      "Procesando feature 3501/6144...\n",
      "Procesando feature 3551/6144...\n",
      "Procesando feature 3601/6144...\n",
      "Procesando feature 3651/6144...\n",
      "Procesando feature 3701/6144...\n",
      "Procesando feature 3751/6144...\n",
      "⚠️ GPU demasiado caliente (76°C). Esperando hasta que baje a 65°C...\n",
      "Temperatura bajó a 65°C, continuando procesamiento...\n",
      "Procesando feature 3801/6144...\n",
      "Procesando feature 3851/6144...\n",
      "Procesando feature 3901/6144...\n",
      "Procesando feature 3951/6144...\n",
      "⚠️ GPU demasiado caliente (76°C). Esperando hasta que baje a 65°C...\n",
      "Temperatura bajó a 63°C, continuando procesamiento...\n",
      "Procesando feature 4001/6144...\n",
      "Procesando feature 4051/6144...\n",
      "Procesando feature 4101/6144...\n",
      "Procesando feature 4151/6144...\n",
      "Procesando feature 4201/6144...\n",
      "Procesando feature 4251/6144...\n",
      "Procesando feature 4301/6144...\n",
      "Procesando feature 4351/6144...\n",
      "Procesando feature 4401/6144...\n",
      "⚠️ GPU demasiado caliente (76°C). Esperando hasta que baje a 65°C...\n",
      "Temperatura bajó a 63°C, continuando procesamiento...\n",
      "Procesando feature 4451/6144...\n",
      "Procesando feature 4501/6144...\n",
      "Procesando feature 4551/6144...\n",
      "Procesando feature 4601/6144...\n",
      "Procesando feature 4651/6144...\n",
      "Procesando feature 4701/6144...\n",
      "Procesando feature 4751/6144...\n",
      "Procesando feature 4801/6144...\n",
      "⚠️ GPU demasiado caliente (76°C). Esperando hasta que baje a 65°C...\n",
      "Temperatura bajó a 64°C, continuando procesamiento...\n",
      "Procesando feature 4851/6144...\n",
      "Procesando feature 4901/6144...\n",
      "Procesando feature 4951/6144...\n",
      "Procesando feature 5001/6144...\n",
      "Procesando feature 5051/6144...\n",
      "Procesando feature 5101/6144...\n",
      "Procesando feature 5151/6144...\n",
      "⚠️ GPU demasiado caliente (76°C). Esperando hasta que baje a 65°C...\n",
      "Temperatura bajó a 63°C, continuando procesamiento...\n",
      "Procesando feature 5201/6144...\n",
      "Procesando feature 5251/6144...\n",
      "Procesando feature 5301/6144...\n",
      "Procesando feature 5351/6144...\n",
      "Procesando feature 5401/6144...\n",
      "Procesando feature 5451/6144...\n",
      "Procesando feature 5501/6144...\n",
      "Procesando feature 5551/6144...\n",
      "⚠️ GPU demasiado caliente (76°C). Esperando hasta que baje a 65°C...\n",
      "Temperatura bajó a 64°C, continuando procesamiento...\n",
      "Procesando feature 5601/6144...\n",
      "Procesando feature 5651/6144...\n",
      "Procesando feature 5701/6144...\n",
      "Procesando feature 5751/6144...\n",
      "Procesando feature 5801/6144...\n",
      "Procesando feature 5851/6144...\n",
      "Procesando feature 5901/6144...\n",
      "⚠️ GPU demasiado caliente (76°C). Esperando hasta que baje a 65°C...\n",
      "Temperatura bajó a 64°C, continuando procesamiento...\n",
      "Procesando feature 5951/6144...\n",
      "Procesando feature 6001/6144...\n",
      "Procesando feature 6051/6144...\n",
      "Procesando feature 6101/6144...\n",
      "Diccionario con embeddings guardado como 'bert-basse-uncased_layer11_resid-pre_batchtopk_with_embeddings.json'\n"
     ]
    }
   ],
   "execution_count": 12
  },
  {
   "metadata": {
    "ExecuteTime": {
     "end_time": "2025-03-30T13:38:37.491342Z",
     "start_time": "2025-03-30T13:32:44.128329Z"
    }
   },
   "cell_type": "code",
   "source": [
    "def add_feature_embeddings(feature_dictionary):\n",
    "    \"\"\"\n",
    "    Añade un embedding ponderado por activación a cada característica.\n",
    "    \"\"\"\n",
    "    updated_dict = {}\n",
    "    total_features = len(feature_dictionary)\n",
    "\n",
    "    for idx, (feature_id, feature_data) in enumerate(feature_dictionary.items()):\n",
    "        if idx % 500 == 0:\n",
    "            print(f\"Procesando feature {idx + 1}/{total_features}...\")\n",
    "\n",
    "        top_examples = feature_data['top_examples']\n",
    "\n",
    "        if top_examples and len(top_examples[0]) >= 3:\n",
    "            # Extraer activaciones y embeddings\n",
    "            weights = np.array([example[0] for example in top_examples])\n",
    "            embeddings = np.array([example[2] for example in top_examples])\n",
    "\n",
    "            # Normalizar pesos para que sumen 1\n",
    "            weights = weights / np.sum(weights)\n",
    "\n",
    "            # Calcular embedding ponderado\n",
    "            weighted_embedding = np.sum(embeddings * weights[:, np.newaxis], axis=0)\n",
    "\n",
    "            # Normalizar el embedding resultante\n",
    "            norm = np.linalg.norm(weighted_embedding)\n",
    "            if norm > 0:\n",
    "                weighted_embedding = weighted_embedding / norm\n",
    "\n",
    "            weighted_embedding = weighted_embedding.tolist()\n",
    "        else:\n",
    "            weighted_embedding = np.zeros(768).tolist()  # Dimensión de SBERT\n",
    "\n",
    "        updated_dict[feature_id] = {\n",
    "            **feature_data,  # Mantener todos los campos originales\n",
    "            'feature_embedding': weighted_embedding  # Añadir el nuevo campo\n",
    "        }\n",
    "\n",
    "    return updated_dict\n",
    "\n",
    "# Cargar el diccionario existente\n",
    "with open('bert-base-uncased_layer11_resid-pre_batchtopk_with_embeddings.json', 'r', encoding='utf-8') as f:\n",
    "    feature_dict = json.load(f)\n",
    "\n",
    "# Añadir embeddings ponderados\n",
    "updated_dict = add_feature_embeddings(feature_dict)\n",
    "\n",
    "# Guardar el resultado\n",
    "with open('bert-base-uncased_layer11_resid-pre_batchtopk_with_feature_embeddings.json', 'w', encoding='utf-8') as f:\n",
    "    json.dump(updated_dict, f, ensure_ascii=False)"
   ],
   "id": "c12575bd6e04f1d2",
   "outputs": [
    {
     "name": "stdout",
     "output_type": "stream",
     "text": [
      "Procesando feature 1/6144...\n",
      "Procesando feature 501/6144...\n",
      "Procesando feature 1001/6144...\n",
      "Procesando feature 1501/6144...\n",
      "Procesando feature 2001/6144...\n",
      "Procesando feature 2501/6144...\n",
      "Procesando feature 3001/6144...\n",
      "Procesando feature 3501/6144...\n",
      "Procesando feature 4001/6144...\n",
      "Procesando feature 4501/6144...\n",
      "Procesando feature 5001/6144...\n",
      "Procesando feature 5501/6144...\n",
      "Procesando feature 6001/6144...\n"
     ]
    }
   ],
   "execution_count": 2
  },
  {
   "metadata": {
    "jupyter": {
     "is_executing": true
    },
    "ExecuteTime": {
     "start_time": "2025-03-30T17:16:50.400159Z"
    }
   },
   "cell_type": "code",
   "source": [
    "with open('bert-base-uncased_layer11_resid-pre_batchtopk_with_feature_embeddings.json', 'r', encoding='utf-8') as f:\n",
    "    feature_dictionary_bert = json.load(f)"
   ],
   "id": "e32d2ca17131dd9a",
   "outputs": [],
   "execution_count": null
  },
  {
   "metadata": {
    "ExecuteTime": {
     "end_time": "2025-03-30T17:03:32.946895Z",
     "start_time": "2025-03-30T17:03:32.728488Z"
    }
   },
   "cell_type": "code",
   "source": [
    "num_feats = 6144\n",
    "embed_dim = 768\n",
    "config = get_default_cfg()\n",
    "\n",
    "features = np.zeros((num_feats, embed_dim), dtype=np.float32)\n",
    "for feature_id, feature_data in feature_dictionary_bert.items():\n",
    "    idx = int(feature_id)\n",
    "    if 'feature_embedding' in feature_data:\n",
    "        features[idx] = feature_data['feature_embedding']\n",
    "    else:\n",
    "        print(f\"La característica {feature_id} no tiene 'feature_embedding'\")\n",
    "features_tensor_bert = torch.tensor(features, dtype=torch.float32).to(config[\"device\"])"
   ],
   "id": "b2393dd949713347",
   "outputs": [],
   "execution_count": 19
  },
  {
   "metadata": {
    "ExecuteTime": {
     "end_time": "2025-03-30T17:03:34.176811Z",
     "start_time": "2025-03-30T17:03:32.963850Z"
    }
   },
   "cell_type": "code",
   "source": [
    "def compute_cosine_similarity_in_batches(features, batch_size=256):\n",
    "    n_features = features.shape[0]\n",
    "    normalized_features = F.normalize(features, p=2, dim=1)\n",
    "\n",
    "    max_sim = -1.0\n",
    "    min_sim = 1.0\n",
    "    sim_values_list = []\n",
    "\n",
    "    for i in range(0, n_features, batch_size):\n",
    "        end_i = min(i + batch_size, n_features)\n",
    "        batch_i = normalized_features[i:end_i]\n",
    "\n",
    "        for j in range(0, n_features, batch_size):\n",
    "            end_j = min(j + batch_size, n_features)\n",
    "            batch_j = normalized_features[j:end_j]\n",
    "\n",
    "            sim_batch = torch.mm(batch_i, batch_j.transpose(0, 1))\n",
    "\n",
    "            if i == j:\n",
    "                mask = torch.ones_like(sim_batch, dtype=torch.bool).triu(diagonal=1)\n",
    "                values = sim_batch[mask]\n",
    "            elif i < j:\n",
    "                values = sim_batch.flatten()\n",
    "            else:\n",
    "                continue\n",
    "\n",
    "            if len(values) > 0:\n",
    "                curr_max = torch.max(values).item()\n",
    "                curr_min = torch.min(values).item()\n",
    "                max_sim = max(max_sim, curr_max)\n",
    "                min_sim = min(min_sim, curr_min)\n",
    "\n",
    "                if len(values) > 10000:\n",
    "                    indices = torch.randperm(len(values))[:10000]\n",
    "                    sampled_values = values[indices].cpu().numpy()\n",
    "                else:\n",
    "                    sampled_values = values.cpu().numpy()\n",
    "\n",
    "                sim_values_list.append(sampled_values)\n",
    "\n",
    "        print(f\"Procesado hasta {end_i}/{n_features} características\")\n",
    "\n",
    "    all_sim_values = np.concatenate(sim_values_list)\n",
    "    avg_sim = all_sim_values.mean()\n",
    "    std_sim = all_sim_values.std()\n",
    "    median_sim = np.median(all_sim_values)\n",
    "\n",
    "    return {\n",
    "        \"max_sim\": max_sim,\n",
    "        \"min_sim\": min_sim,\n",
    "        \"avg_sim\": avg_sim,\n",
    "        \"std_sim\": std_sim,\n",
    "        \"median_sim\": median_sim,\n",
    "        \"sim_values\": all_sim_values\n",
    "    }\n",
    "\n",
    "# Ejecutar el cálculo por lotes\n",
    "similarity_stats = compute_cosine_similarity_in_batches(features_tensor_bert, batch_size=256)\n",
    "\n",
    "# Mostrar estadísticas\n",
    "print(f\"Valor máximo: {similarity_stats['max_sim']:.4f}\")\n",
    "print(f\"Valor mínimo: {similarity_stats['min_sim']:.4f}\")\n",
    "print(f\"Valor promedio: {similarity_stats['avg_sim']:.4f}\")\n",
    "print(f\"Desviación estándar: {similarity_stats['std_sim']:.4f}\")\n",
    "print(f\"Mediana: {similarity_stats['median_sim']:.4f}\")\n",
    "\n",
    "# Visualizar distribución con recuadro de estadísticas\n",
    "plt.figure(figsize=(10, 6))\n",
    "plt.hist(similarity_stats['sim_values'], bins=100)\n",
    "plt.title('Cosine similarity between BatchTopK BERT featurers')\n",
    "plt.xlabel('Cosine similarity value')\n",
    "plt.ylabel('Frequency')\n",
    "plt.grid(alpha=0.3)\n",
    "\n",
    "# Crear recuadro con estadísticas\n",
    "stats_text = f\"Mean: {similarity_stats['avg_sim']:.4f}\\n\" \\\n",
    "             f\"STD: {similarity_stats['std_sim']:.4f}\\n\" \\\n",
    "             f\"Median: {similarity_stats['median_sim']:.4f}\\n\" \\\n",
    "             f\"Max: {similarity_stats['max_sim']:.4f}\\n\" \\\n",
    "             f\"Min: {similarity_stats['min_sim']:.4f}\"\n",
    "\n",
    "plt.text(0.85, 0.95, stats_text, transform=plt.gca().transAxes,\n",
    "         bbox=dict(boxstyle=\"round,pad=0.5\", facecolor=\"white\", alpha=0.8),\n",
    "         fontsize=10, verticalalignment=\"top\")\n",
    "\n",
    "plt.tight_layout()\n",
    "plt.show()"
   ],
   "id": "1857a238d529c0f2",
   "outputs": [
    {
     "name": "stdout",
     "output_type": "stream",
     "text": [
      "Procesado hasta 256/6144 características\n",
      "Procesado hasta 512/6144 características\n",
      "Procesado hasta 768/6144 características\n",
      "Procesado hasta 1024/6144 características\n",
      "Procesado hasta 1280/6144 características\n",
      "Procesado hasta 1536/6144 características\n",
      "Procesado hasta 1792/6144 características\n",
      "Procesado hasta 2048/6144 características\n",
      "Procesado hasta 2304/6144 características\n",
      "Procesado hasta 2560/6144 características\n",
      "Procesado hasta 2816/6144 características\n",
      "Procesado hasta 3072/6144 características\n",
      "Procesado hasta 3328/6144 características\n",
      "Procesado hasta 3584/6144 características\n",
      "Procesado hasta 3840/6144 características\n",
      "Procesado hasta 4096/6144 características\n",
      "Procesado hasta 4352/6144 características\n",
      "Procesado hasta 4608/6144 características\n",
      "Procesado hasta 4864/6144 características\n",
      "Procesado hasta 5120/6144 características\n",
      "Procesado hasta 5376/6144 características\n",
      "Procesado hasta 5632/6144 características\n",
      "Procesado hasta 5888/6144 características\n",
      "Procesado hasta 6144/6144 características\n",
      "Valor máximo: 0.9943\n",
      "Valor mínimo: -0.0869\n",
      "Valor promedio: 0.4526\n",
      "Desviación estándar: 0.1186\n",
      "Mediana: 0.4612\n"
     ]
    },
    {
     "data": {
      "text/plain": [
       "<Figure size 1000x600 with 1 Axes>"
      ],
      "image/png": "[encoded data removed]"
     },
     "metadata": {},
     "output_type": "display_data"
    }
   ],
   "execution_count": 20
  },
  {
   "metadata": {
    "ExecuteTime": {
     "end_time": "2025-03-30T17:16:50.289799Z",
     "start_time": "2025-03-30T17:10:07.606423Z"
    }
   },
   "cell_type": "code",
   "source": [
    "def add_feature_embeddings(feature_dictionary):\n",
    "    \"\"\"\n",
    "    Añade un embedding ponderado por activación a cada característica.\n",
    "    \"\"\"\n",
    "    updated_dict = {}\n",
    "    total_features = len(feature_dictionary)\n",
    "\n",
    "    for idx, (feature_id, feature_data) in enumerate(feature_dictionary.items()):\n",
    "        if idx % 500 == 0:\n",
    "            print(f\"Procesando feature {idx + 1}/{total_features}...\")\n",
    "\n",
    "        top_examples = feature_data['top_examples']\n",
    "\n",
    "        if top_examples and len(top_examples[0]) >= 3:\n",
    "            # Extraer activaciones y embeddings\n",
    "            weights = np.array([example[0] for example in top_examples])\n",
    "            embeddings = np.array([example[2] for example in top_examples])\n",
    "\n",
    "            # Normalizar pesos para que sumen 1\n",
    "            weights = weights / np.sum(weights)\n",
    "\n",
    "            # Calcular embedding ponderado\n",
    "            weighted_embedding = np.sum(embeddings * weights[:, np.newaxis], axis=0)\n",
    "\n",
    "            # Normalizar el embedding resultante\n",
    "            norm = np.linalg.norm(weighted_embedding)\n",
    "            if norm > 0:\n",
    "                weighted_embedding = weighted_embedding / norm\n",
    "\n",
    "            weighted_embedding = weighted_embedding.tolist()\n",
    "        else:\n",
    "            weighted_embedding = np.zeros(768).tolist()  # Dimensión de SBERT\n",
    "\n",
    "        updated_dict[feature_id] = {\n",
    "            **feature_data,  # Mantener todos los campos originales\n",
    "            'feature_embedding': weighted_embedding  # Añadir el nuevo campo\n",
    "        }\n",
    "\n",
    "    return updated_dict\n",
    "\n",
    "# Cargar el diccionario existente\n",
    "with open('gpt2-small_layer11_resid-pre_batchtopk_with_embeddings.json', 'r', encoding='utf-8') as f:\n",
    "    feature_dict = json.load(f)\n",
    "\n",
    "# Añadir embeddings ponderados\n",
    "updated_dict = add_feature_embeddings(feature_dict)\n",
    "\n",
    "# Guardar el resultado\n",
    "with open('gpt2-small_layer11_resid-pre_batchtopk_with_feature_embeddings.json', 'w', encoding='utf-8') as f:\n",
    "    json.dump(updated_dict, f, ensure_ascii=False)"
   ],
   "id": "6998efc325948cd",
   "outputs": [
    {
     "name": "stdout",
     "output_type": "stream",
     "text": [
      "Procesando feature 1/6144...\n",
      "Procesando feature 501/6144...\n",
      "Procesando feature 1001/6144...\n",
      "Procesando feature 1501/6144...\n",
      "Procesando feature 2001/6144...\n",
      "Procesando feature 2501/6144...\n",
      "Procesando feature 3001/6144...\n",
      "Procesando feature 3501/6144...\n",
      "Procesando feature 4001/6144...\n",
      "Procesando feature 4501/6144...\n",
      "Procesando feature 5001/6144...\n",
      "Procesando feature 5501/6144...\n",
      "Procesando feature 6001/6144...\n"
     ]
    }
   ],
   "execution_count": 3
  },
  {
   "metadata": {},
   "cell_type": "code",
   "outputs": [],
   "execution_count": null,
   "source": [
    "with open('gpt2-smal_layer11_resid-pre_batchtopk_with_feature_embeddings.json', 'r', encoding='utf-8') as f:\n",
    "    feature_dictionary_gpt2 = json.load(f)\n",
    "num_feats = 6144\n",
    "embed_dim = 768\n",
    "config = get_default_cfg()\n",
    "\n",
    "features = np.zeros((num_feats, embed_dim), dtype=np.float32)\n",
    "for feature_id, feature_data in feature_dictionary_bert.items():\n",
    "    idx = int(feature_id)\n",
    "    if 'feature_embedding' in feature_data:\n",
    "        features[idx] = feature_data['feature_embedding']\n",
    "    else:\n",
    "        print(f\"La característica {feature_id} no tiene 'feature_embedding'\")\n",
    "features_tensor_gpt2 = torch.tensor(features, dtype=torch.float32).to(config[\"device\"])"
   ],
   "id": "4e763004ba287927"
  },
  {
   "metadata": {},
   "cell_type": "code",
   "outputs": [],
   "execution_count": null,
   "source": [
    "def encontrar_similitudes_entre_modelos(features_bert, features_gpt2, batch_size=256, umbral=0.8):\n",
    "    \"\"\"\n",
    "    Encuentra vectores similares entre features_bert y features_gpt2 usando similitud coseno.\n",
    "\n",
    "    Args:\n",
    "        features_bert: Tensor de forma [n_features_bert, embed_dim]\n",
    "        features_gpt2: Tensor de forma [n_features_gpt2, embed_dim]\n",
    "        batch_size: Tamaño del lote para procesamiento\n",
    "        umbral: Umbral mínimo de similitud coseno para considerar características como similares\n",
    "\n",
    "    Returns:\n",
    "        Lista de tuplas (id_feature_bert, id_feature_gpt2, valor_similitud)\n",
    "    \"\"\"\n",
    "    n_features_bert = features_bert.shape[0]\n",
    "    n_features_gpt2 = features_gpt2.shape[0]\n",
    "\n",
    "    # Normalizar vectores para cálculo de similitud coseno\n",
    "    normalized_bert = F.normalize(features_bert, p=2, dim=1)\n",
    "    normalized_gpt2 = F.normalize(features_gpt2, p=2, dim=1)\n",
    "\n",
    "    # Lista para almacenar pares similares\n",
    "    pares_similares = []\n",
    "\n",
    "    # Para cada lote de características de BERT\n",
    "    for i in range(0, n_features_bert, batch_size):\n",
    "        end_i = min(i + batch_size, n_features_bert)\n",
    "        batch_bert = normalized_bert[i:end_i]\n",
    "\n",
    "        # Para cada lote de características de GPT-2\n",
    "        for j in range(0, n_features_gpt2, batch_size):\n",
    "            end_j = min(j + batch_size, n_features_gpt2)\n",
    "            batch_gpt2 = normalized_gpt2[j:end_j]\n",
    "\n",
    "            # Calcular matriz de similitud para el lote actual\n",
    "            sim_batch = torch.mm(batch_bert, batch_gpt2.transpose(0, 1))\n",
    "\n",
    "            # Encontrar pares con alta similitud\n",
    "            pares_alto_sim = (sim_batch >= umbral).nonzero(as_tuple=True)\n",
    "\n",
    "            if len(pares_alto_sim[0]) > 0:\n",
    "                for idx_rel, idx_abs in enumerate(pares_alto_sim[0]):\n",
    "                    feature_bert_id = i + idx_abs.item()\n",
    "                    feature_gpt2_id = j + pares_alto_sim[1][idx_rel].item()\n",
    "                    sim_valor = sim_batch[idx_abs, pares_alto_sim[1][idx_rel]].item()\n",
    "                    pares_similares.append((feature_bert_id, feature_gpt2_id, sim_valor))\n",
    "\n",
    "        # Mostrar progreso\n",
    "        print(f\"Procesado hasta {end_i}/{n_features_bert} características de BERT\")\n",
    "\n",
    "    # Ordenar por similitud de mayor a menor\n",
    "    pares_similares.sort(key=lambda x: x[2], reverse=True)\n",
    "\n",
    "    return pares_similares\n",
    "\n",
    "# Calcular las similitudes entre los modelos\n",
    "umbral_similitud = 0.7  # Puedes ajustar este valor según necesites\n",
    "similitudes = encontrar_similitudes_entre_modelos(\n",
    "    features_tensor_bert,\n",
    "    features_tensor_gpt2,\n",
    "    batch_size=256,\n",
    "    umbral=umbral_similitud\n",
    ")\n",
    "\n",
    "# Mostrar resultados\n",
    "print(f\"Total de pares similares encontrados: {len(similitudes)}\")\n",
    "print(\"\\nLos 20 pares más similares:\")\n",
    "for bert_id, gpt2_id, sim in similitudes[:20]:\n",
    "    print(f\"BERT feature {bert_id} ↔ GPT-2 feature {gpt2_id}: similitud = {sim:.4f}\")\n",
    "\n",
    "# Visualizar distribución de similitudes\n",
    "if similitudes:\n",
    "    sim_values = [s for _, _, s in similitudes]\n",
    "\n",
    "    plt.figure(figsize=(10, 6))\n",
    "    plt.hist(sim_values, bins=50)\n",
    "    plt.title('Distribución de similitud coseno entre características de BERT y GPT-2')\n",
    "    plt.xlabel('Similitud coseno')\n",
    "    plt.ylabel('Frecuencia')\n",
    "    plt.grid(alpha=0.3)\n",
    "\n",
    "    # Añadir estadísticas en un recuadro\n",
    "    media = np.mean(sim_values)\n",
    "    desv_std = np.std(sim_values)\n",
    "    mediana = np.median(sim_values)\n",
    "\n",
    "    stats_text = f\"Media: {media:.4f}\\n\" \\\n",
    "                f\"Desv. Est.: {desv_std:.4f}\\n\" \\\n",
    "                f\"Mediana: {mediana:.4f}\\n\" \\\n",
    "                f\"Total pares: {len(similitudes)}\"\n",
    "\n",
    "    plt.text(0.02, 0.95, stats_text, transform=plt.gca().transAxes,\n",
    "            bbox=dict(boxstyle=\"round,pad=0.5\", facecolor=\"white\", alpha=0.8),\n",
    "            fontsize=10, verticalalignment=\"top\")\n",
    "\n",
    "    plt.tight_layout()\n",
    "    plt.show()"
   ],
   "id": "116eb68849ad31d8"
  },
  {
   "metadata": {},
   "cell_type": "code",
   "outputs": [],
   "execution_count": null,
   "source": "",
   "id": "f4413426439e5b2a"
  }
 ],
 "metadata": {
  "kernelspec": {
   "display_name": "Python 3",
   "language": "python",
   "name": "python3"
  },
  "language_info": {
   "codemirror_mode": {
    "name": "ipython",
    "version": 2
   },
   "file_extension": ".py",
   "mimetype": "text/x-python",
   "name": "python",
   "nbconvert_exporter": "python",
   "pygments_lexer": "ipython2",
   "version": "2.7.6"
  }
 },
 "nbformat": 4,
 "nbformat_minor": 5
}
