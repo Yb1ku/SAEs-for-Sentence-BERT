{
 "cells": [
  {
   "cell_type": "code",
   "id": "initial_id",
   "metadata": {
    "collapsed": true,
    "ExecuteTime": {
     "end_time": "2025-04-11T15:15:07.889929Z",
     "start_time": "2025-04-11T15:15:02.272143Z"
    }
   },
   "source": [
    "import torch\n",
    "import torch.nn as nn\n",
    "import torch.nn.functional as F\n",
    "import wandb\n",
    "from config import get_default_cfg\n",
    "from sae import VanillaSAE, TopKSAE, BatchTopKSAE, JumpReLUSAE\n",
    "import transformer_lens\n",
    "from transformer_lens import HookedTransformer, HookedEncoder\n",
    "from transformers import GPT2Tokenizer, GPT2Model, BertModel, BertTokenizer\n",
    "from datasets import load_dataset\n",
    "import matplotlib.pyplot as plt\n",
    "import json\n",
    "import os\n",
    "import numpy as np\n",
    "from sentence_transformers import SentenceTransformer"
   ],
   "outputs": [],
   "execution_count": 1
  },
  {
   "metadata": {},
   "cell_type": "markdown",
   "source": [
    "---\n",
    "Load the models"
   ],
   "id": "65aa164c8b627892"
  },
  {
   "metadata": {
    "ExecuteTime": {
     "end_time": "2025-04-11T15:15:14.510237Z",
     "start_time": "2025-04-11T15:15:07.896879Z"
    }
   },
   "cell_type": "code",
   "source": [
    "run = wandb.init()\n",
    "artifact = run.use_artifact('ybiku-unir/SBERT-SAEs-PubMed/sentence-transformers_paraphrase-mpnet-base-v2_blocks.0.hook_embed_2304_jumprelu_16_0.0003_624:v0', type='model')\n",
    "artifact_dir = artifact.download()\n",
    "\n",
    "config_path = os.path.join(artifact_dir, 'config.json')\n",
    "with open(config_path, 'r') as f:\n",
    "    config = json.load(f)\n",
    "\n",
    "if \"dtype\" in config and isinstance(config[\"dtype\"], str):\n",
    "    if config[\"dtype\"] == \"torch.float32\":\n",
    "        config[\"dtype\"] = torch.float32\n",
    "    elif config[\"dtype\"] == \"torch.float16\":\n",
    "        config[\"dtype\"] = torch.float16\n",
    "\n",
    "sae = BatchTopKSAE(config).to(config[\"device\"])\n",
    "sae.load_state_dict(torch.load(os.path.join(artifact_dir, 'sae.pt')))\n",
    "sae.eval()\n",
    "\n",
    "model = HookedEncoder.from_pretrained(\"bert-base-uncased\").to(config[\"device\"])\n",
    "sbert = SentenceTransformer('sentence-transformers/paraphrase-mpnet-base-v2')"
   ],
   "id": "4956216c90901e01",
   "outputs": [
    {
     "name": "stderr",
     "output_type": "stream",
     "text": [
      "wandb: Using wandb-core as the SDK backend.  Please refer to https://wandb.me/wandb-core for more information.\n",
      "wandb: Currently logged in as: ybiku (ybiku-unir) to https://api.wandb.ai. Use `wandb login --relogin` to force relogin\n"
     ]
    },
    {
     "data": {
      "text/plain": [
       "<IPython.core.display.HTML object>"
      ],
      "text/html": [
       "Tracking run with wandb version 0.19.8"
      ]
     },
     "metadata": {},
     "output_type": "display_data"
    },
    {
     "data": {
      "text/plain": [
       "<IPython.core.display.HTML object>"
      ],
      "text/html": [
       "Run data is saved locally in <code>D:\\Escritorio\\PythonProyects\\SparseAutoencodersTFM\\wandb\\run-20250411_171508-o3haom7u</code>"
      ]
     },
     "metadata": {},
     "output_type": "display_data"
    },
    {
     "data": {
      "text/plain": [
       "<IPython.core.display.HTML object>"
      ],
      "text/html": [
       "Syncing run <strong><a href='https://wandb.ai/ybiku-unir/uncategorized/runs/o3haom7u' target=\"_blank\">distinctive-voice-41</a></strong> to <a href='https://wandb.ai/ybiku-unir/uncategorized' target=\"_blank\">Weights & Biases</a> (<a href='https://wandb.me/developer-guide' target=\"_blank\">docs</a>)<br>"
      ]
     },
     "metadata": {},
     "output_type": "display_data"
    },
    {
     "data": {
      "text/plain": [
       "<IPython.core.display.HTML object>"
      ],
      "text/html": [
       " View project at <a href='https://wandb.ai/ybiku-unir/uncategorized' target=\"_blank\">https://wandb.ai/ybiku-unir/uncategorized</a>"
      ]
     },
     "metadata": {},
     "output_type": "display_data"
    },
    {
     "data": {
      "text/plain": [
       "<IPython.core.display.HTML object>"
      ],
      "text/html": [
       " View run at <a href='https://wandb.ai/ybiku-unir/uncategorized/runs/o3haom7u' target=\"_blank\">https://wandb.ai/ybiku-unir/uncategorized/runs/o3haom7u</a>"
      ]
     },
     "metadata": {},
     "output_type": "display_data"
    },
    {
     "name": "stderr",
     "output_type": "stream",
     "text": [
      "wandb:   2 of 2 files downloaded.  \n"
     ]
    },
    {
     "ename": "RuntimeError",
     "evalue": "Error(s) in loading state_dict for BatchTopKSAE:\n\tUnexpected key(s) in state_dict: \"jumprelu.log_threshold\". ",
     "output_type": "error",
     "traceback": [
      "\u001B[1;31m---------------------------------------------------------------------------\u001B[0m",
      "\u001B[1;31mRuntimeError\u001B[0m                              Traceback (most recent call last)",
      "Cell \u001B[1;32mIn[2], line 16\u001B[0m\n\u001B[0;32m     13\u001B[0m         config[\u001B[38;5;124m\"\u001B[39m\u001B[38;5;124mdtype\u001B[39m\u001B[38;5;124m\"\u001B[39m] \u001B[38;5;241m=\u001B[39m torch\u001B[38;5;241m.\u001B[39mfloat16\n\u001B[0;32m     15\u001B[0m sae \u001B[38;5;241m=\u001B[39m BatchTopKSAE(config)\u001B[38;5;241m.\u001B[39mto(config[\u001B[38;5;124m\"\u001B[39m\u001B[38;5;124mdevice\u001B[39m\u001B[38;5;124m\"\u001B[39m])\n\u001B[1;32m---> 16\u001B[0m \u001B[43msae\u001B[49m\u001B[38;5;241;43m.\u001B[39;49m\u001B[43mload_state_dict\u001B[49m\u001B[43m(\u001B[49m\u001B[43mtorch\u001B[49m\u001B[38;5;241;43m.\u001B[39;49m\u001B[43mload\u001B[49m\u001B[43m(\u001B[49m\u001B[43mos\u001B[49m\u001B[38;5;241;43m.\u001B[39;49m\u001B[43mpath\u001B[49m\u001B[38;5;241;43m.\u001B[39;49m\u001B[43mjoin\u001B[49m\u001B[43m(\u001B[49m\u001B[43martifact_dir\u001B[49m\u001B[43m,\u001B[49m\u001B[43m \u001B[49m\u001B[38;5;124;43m'\u001B[39;49m\u001B[38;5;124;43msae.pt\u001B[39;49m\u001B[38;5;124;43m'\u001B[39;49m\u001B[43m)\u001B[49m\u001B[43m)\u001B[49m\u001B[43m)\u001B[49m\n\u001B[0;32m     17\u001B[0m sae\u001B[38;5;241m.\u001B[39meval()\n\u001B[0;32m     19\u001B[0m model \u001B[38;5;241m=\u001B[39m HookedEncoder\u001B[38;5;241m.\u001B[39mfrom_pretrained(\u001B[38;5;124m\"\u001B[39m\u001B[38;5;124mbert-base-uncased\u001B[39m\u001B[38;5;124m\"\u001B[39m)\u001B[38;5;241m.\u001B[39mto(config[\u001B[38;5;124m\"\u001B[39m\u001B[38;5;124mdevice\u001B[39m\u001B[38;5;124m\"\u001B[39m])\n",
      "File \u001B[1;32mD:\\Escritorio\\PythonProyects\\SparseAutoencodersTFM\\.venv\\lib\\site-packages\\torch\\nn\\modules\\module.py:2581\u001B[0m, in \u001B[0;36mModule.load_state_dict\u001B[1;34m(self, state_dict, strict, assign)\u001B[0m\n\u001B[0;32m   2573\u001B[0m         error_msgs\u001B[38;5;241m.\u001B[39minsert(\n\u001B[0;32m   2574\u001B[0m             \u001B[38;5;241m0\u001B[39m,\n\u001B[0;32m   2575\u001B[0m             \u001B[38;5;124m\"\u001B[39m\u001B[38;5;124mMissing key(s) in state_dict: \u001B[39m\u001B[38;5;132;01m{}\u001B[39;00m\u001B[38;5;124m. \u001B[39m\u001B[38;5;124m\"\u001B[39m\u001B[38;5;241m.\u001B[39mformat(\n\u001B[0;32m   2576\u001B[0m                 \u001B[38;5;124m\"\u001B[39m\u001B[38;5;124m, \u001B[39m\u001B[38;5;124m\"\u001B[39m\u001B[38;5;241m.\u001B[39mjoin(\u001B[38;5;124mf\u001B[39m\u001B[38;5;124m'\u001B[39m\u001B[38;5;124m\"\u001B[39m\u001B[38;5;132;01m{\u001B[39;00mk\u001B[38;5;132;01m}\u001B[39;00m\u001B[38;5;124m\"\u001B[39m\u001B[38;5;124m'\u001B[39m \u001B[38;5;28;01mfor\u001B[39;00m k \u001B[38;5;129;01min\u001B[39;00m missing_keys)\n\u001B[0;32m   2577\u001B[0m             ),\n\u001B[0;32m   2578\u001B[0m         )\n\u001B[0;32m   2580\u001B[0m \u001B[38;5;28;01mif\u001B[39;00m \u001B[38;5;28mlen\u001B[39m(error_msgs) \u001B[38;5;241m>\u001B[39m \u001B[38;5;241m0\u001B[39m:\n\u001B[1;32m-> 2581\u001B[0m     \u001B[38;5;28;01mraise\u001B[39;00m \u001B[38;5;167;01mRuntimeError\u001B[39;00m(\n\u001B[0;32m   2582\u001B[0m         \u001B[38;5;124m\"\u001B[39m\u001B[38;5;124mError(s) in loading state_dict for \u001B[39m\u001B[38;5;132;01m{}\u001B[39;00m\u001B[38;5;124m:\u001B[39m\u001B[38;5;130;01m\\n\u001B[39;00m\u001B[38;5;130;01m\\t\u001B[39;00m\u001B[38;5;132;01m{}\u001B[39;00m\u001B[38;5;124m\"\u001B[39m\u001B[38;5;241m.\u001B[39mformat(\n\u001B[0;32m   2583\u001B[0m             \u001B[38;5;28mself\u001B[39m\u001B[38;5;241m.\u001B[39m\u001B[38;5;18m__class__\u001B[39m\u001B[38;5;241m.\u001B[39m\u001B[38;5;18m__name__\u001B[39m, \u001B[38;5;124m\"\u001B[39m\u001B[38;5;130;01m\\n\u001B[39;00m\u001B[38;5;130;01m\\t\u001B[39;00m\u001B[38;5;124m\"\u001B[39m\u001B[38;5;241m.\u001B[39mjoin(error_msgs)\n\u001B[0;32m   2584\u001B[0m         )\n\u001B[0;32m   2585\u001B[0m     )\n\u001B[0;32m   2586\u001B[0m \u001B[38;5;28;01mreturn\u001B[39;00m _IncompatibleKeys(missing_keys, unexpected_keys)\n",
      "\u001B[1;31mRuntimeError\u001B[0m: Error(s) in loading state_dict for BatchTopKSAE:\n\tUnexpected key(s) in state_dict: \"jumprelu.log_threshold\". "
     ]
    }
   ],
   "execution_count": 2
  },
  {
   "metadata": {
    "ExecuteTime": {
     "end_time": "2025-04-02T15:00:15.776107Z",
     "start_time": "2025-04-02T15:00:15.752552Z"
    }
   },
   "cell_type": "code",
   "source": [
    "prompt = \"This is a prompt for testing the model.\"\n",
    "with torch.no_grad():\n",
    "    embeddings = sbert.encode(prompt, convert_to_tensor=True)\n",
    "embeddings.shape"
   ],
   "id": "9b7449138035175f",
   "outputs": [
    {
     "data": {
      "text/plain": [
       "torch.Size([768])"
      ]
     },
     "execution_count": 35,
     "metadata": {},
     "output_type": "execute_result"
    }
   ],
   "execution_count": 35
  },
  {
   "metadata": {
    "ExecuteTime": {
     "end_time": "2025-04-02T15:00:20.536842Z",
     "start_time": "2025-04-02T15:00:15.833262Z"
    }
   },
   "cell_type": "code",
   "source": [
    "import importlib\n",
    "import activation_store\n",
    "importlib.reload(activation_store)\n",
    "from activation_store import ActivationsStoreSBERT\n",
    "\n",
    "dataset = load_dataset(\"brainchalov/pubmed_arxiv_abstracts_data\", split=\"train\", trust_remote_code=True, streaming=True)\n",
    "store = ActivationsStoreSBERT(sbert, config)"
   ],
   "id": "eb7917bb38ee3454",
   "outputs": [
    {
     "name": "stderr",
     "output_type": "stream",
     "text": [
      "Repo card metadata block was not found. Setting CardData to empty.\n",
      "WARNING:huggingface_hub.repocard:Repo card metadata block was not found. Setting CardData to empty.\n"
     ]
    }
   ],
   "execution_count": 36
  },
  {
   "metadata": {
    "ExecuteTime": {
     "end_time": "2025-04-02T14:42:59.470541Z",
     "start_time": "2025-04-02T14:42:59.453483Z"
    }
   },
   "cell_type": "code",
   "source": "store.next_batch",
   "id": "429871e83234f448",
   "outputs": [
    {
     "data": {
      "text/plain": [
       "<bound method ActivationsStoreSBERT.next_batch of <activation_store.ActivationsStoreSBERT object at 0x000001A2591F4D90>>"
      ]
     },
     "execution_count": 29,
     "metadata": {},
     "output_type": "execute_result"
    }
   ],
   "execution_count": 29
  },
  {
   "metadata": {
    "ExecuteTime": {
     "end_time": "2025-04-02T14:43:01.082367Z",
     "start_time": "2025-04-02T14:43:00.829380Z"
    }
   },
   "cell_type": "code",
   "source": [
    "column = store._get_tokens_column()\n",
    "column"
   ],
   "id": "b236408e06823ff3",
   "outputs": [
    {
     "data": {
      "text/plain": [
       "'abstr'"
      ]
     },
     "execution_count": 30,
     "metadata": {},
     "output_type": "execute_result"
    }
   ],
   "execution_count": 30
  },
  {
   "metadata": {
    "ExecuteTime": {
     "end_time": "2025-04-02T14:42:29.890031Z",
     "start_time": "2025-04-02T14:42:29.213400Z"
    }
   },
   "cell_type": "code",
   "source": [
    "sample = next(iter(dataset))\n",
    "print(sample.keys())"
   ],
   "id": "29716b87238d22ae",
   "outputs": [
    {
     "name": "stdout",
     "output_type": "stream",
     "text": [
      "dict_keys(['abstr', 'title', 'journal', 'field', 'label_journal', 'label_field'])\n"
     ]
    }
   ],
   "execution_count": 27
  },
  {
   "metadata": {},
   "cell_type": "markdown",
   "source": [
    "---\n",
    "### Neuron activation analysis of the Residual Stream of the 11th layer of BERT"
   ],
   "id": "10d4569ba9942020"
  },
  {
   "metadata": {
    "ExecuteTime": {
     "end_time": "2025-04-01T14:01:52.498208Z",
     "start_time": "2025-04-01T13:59:02.676149Z"
    }
   },
   "cell_type": "code",
   "source": [
    "def hook_fn(act, hook):\n",
    "    activation[hook.name] = act.detach()\n",
    "    return act\n",
    "\n",
    "dataset = load_dataset(\"EleutherAI/the_pile_deduplicated\", split=\"train\", streaming=True)\n",
    "dataset = dataset.shuffle(seed=config[\"seed\"]).take(int(1e4))\n",
    "hook_point = config[\"hook_point\"]\n",
    "num_examples = 0\n",
    "neuron_fire_count = torch.zeros(config[\"act_size\"]).to(config[\"device\"])\n",
    "\n",
    "for example in dataset:\n",
    "    num_examples += 1\n",
    "    text = example['text']\n",
    "    tokens_tuple = model.to_tokens(text, truncate=True, move_to_device=True)\n",
    "    tokens = tokens_tuple[0].squeeze(0)\n",
    "    if tokens.shape[0] > config[\"seq_len\"]:\n",
    "        tokens = tokens[:config[\"seq_len\"]]\n",
    "    elif tokens.shape[0] < config[\"seq_len\"]:\n",
    "        tokens = F.pad(tokens, (0, config[\"seq_len\"] - tokens.shape[0]), value=model.tokenizer.pad_token_id)\n",
    "\n",
    "    activation = {}\n",
    "    with torch.no_grad():\n",
    "        _ = model.run_with_hooks(\n",
    "            tokens.unsqueeze(0),\n",
    "            fwd_hooks=[(hook_point, hook_fn)]\n",
    "        )\n",
    "    activations = activation[hook_point]\n",
    "    activations = activations.reshape(-1, config[\"act_size\"]).to(config[\"device\"])\n",
    "    active_neurons = activations != 0\n",
    "    neuron_fire_count_ex = torch.sum(active_neurons.int(), dim=0)\n",
    "    neuron_fire_count_ex = neuron_fire_count_ex > 0\n",
    "    neuron_fire_count_ex = neuron_fire_count_ex.int()\n",
    "    neuron_fire_count += neuron_fire_count_ex\n",
    "\n",
    "neuron_fire_count_percent = 100 * neuron_fire_count / num_examples\n",
    "\n",
    "\n",
    "plt.hist(neuron_fire_count_percent.cpu().numpy(), bins=100)\n",
    "plt.xlabel('Neuron fire rate (%)')\n",
    "plt.ylabel('Number of neurons')\n",
    "plt.title('Fire rate for neurons in Residual Stream (Layer 11)')\n",
    "plt.show()"
   ],
   "id": "effdc864e0dc4474",
   "outputs": [
    {
     "data": {
      "text/plain": [
       "<Figure size 640x480 with 1 Axes>"
      ],
      "image/png": "[encoded data removed]"
     },
     "metadata": {},
     "output_type": "display_data"
    }
   ],
   "execution_count": 31
  },
  {
   "metadata": {},
   "cell_type": "markdown",
   "source": [
    "---\n",
    "### Feature activation analysis of the x16 BatchTopK SAE on the Residual Stream of the 11th layer of BERT"
   ],
   "id": "607c171a3d33244c"
  },
  {
   "metadata": {
    "ExecuteTime": {
     "end_time": "2025-04-01T15:29:13.953709Z",
     "start_time": "2025-04-01T14:01:52.700112Z"
    }
   },
   "cell_type": "code",
   "source": [
    "def hook_fn(act, hook):\n",
    "    activation[hook.name] = act.detach()\n",
    "    return act\n",
    "\n",
    "model = HookedEncoder.from_pretrained(\"bert-base-uncased\").to(config[\"device\"])\n",
    "hook_point = config[\"hook_point\"]\n",
    "feature_count = torch.ones(config[\"dict_size\"], device=config[\"device\"])\n",
    "num_examples = 0\n",
    "top_examples_per_feature = {i: [] for i in range(config[\"dict_size\"])}\n",
    "\n",
    "dataset = load_dataset(\"EleutherAI/the_pile_deduplicated\", split=\"train\", streaming=True)\n",
    "dataset = dataset.shuffle(seed=config[\"seed\"]).take(int(1e4))\n",
    "\n",
    "for example in dataset:\n",
    "    num_examples += 1\n",
    "    text = example['text']\n",
    "    tokens_tuple = model.to_tokens(text, truncate=True, move_to_device=True)\n",
    "    tokens = tokens_tuple[0].squeeze(0)\n",
    "    if tokens.shape[0] > config[\"seq_len\"]:\n",
    "        tokens = tokens[:config[\"seq_len\"]]\n",
    "    elif tokens.shape[0] < config[\"seq_len\"]:\n",
    "        tokens = F.pad(tokens, (0, config[\"seq_len\"] - tokens.shape[0]), value=model.tokenizer.pad_token_id)\n",
    "\n",
    "    activation = {}\n",
    "    with torch.no_grad():\n",
    "        _ = model.run_with_hooks(\n",
    "            tokens.unsqueeze(0),\n",
    "            fwd_hooks=[(hook_point, hook_fn)]\n",
    "        )\n",
    "    activations = activation[hook_point]\n",
    "    batch_activations = activations.reshape(-1, config[\"act_size\"]).to(config[\"device\"])\n",
    "    with torch.no_grad():\n",
    "        sae_output = sae(batch_activations)\n",
    "\n",
    "    feature_acts = sae_output[\"feature_acts\"]\n",
    "    max_activations, _ = torch.max(feature_acts, dim=0)\n",
    "\n",
    "    feature_activations_token = (sae_output[\"feature_acts\"] > 0)\n",
    "    feature_activations_example = feature_activations_token.any(dim=0).int()\n",
    "    feature_count += feature_activations_example\n",
    "\n",
    "    for feature_idx in range(config[\"dict_size\"]):\n",
    "        activation_val = max_activations[feature_idx].item()\n",
    "        if activation_val > 0:  # Solo guardar si hay activación\n",
    "            # Guardar temporalmente todos los ejemplos\n",
    "            top_examples_per_feature[feature_idx].append((activation_val, text))\n",
    "            # Mantenemos ordenada la lista por valor de activación (descendente)\n",
    "            top_examples_per_feature[feature_idx].sort(key=lambda x: x[0], reverse=True)\n",
    "            # Mantenemos solo los 20 mejores ejemplos\n",
    "            if len(top_examples_per_feature[feature_idx]) > 20:\n",
    "                top_examples_per_feature[feature_idx] = top_examples_per_feature[feature_idx][:20]\n",
    "\n",
    "\n",
    "feature_prob = feature_count / num_examples\n",
    "feature_activation_pct = 100 * feature_prob\n",
    "\n",
    "vals = feature_activation_pct.cpu().numpy()\n",
    "num_features = len(vals)\n",
    "\n",
    "counts, bins = np.histogram(vals, bins=100, range=(0,100))\n",
    "counts_pct = (counts / num_features) * 100\n",
    "bin_width = bins[1] - bins[0]\n",
    "plt.figure(figsize=(12, 5))\n",
    "plt.bar(\n",
    "    bins[:-1],\n",
    "    counts_pct,\n",
    "    width=bin_width,\n",
    "    align='edge',\n",
    "    edgecolor='black',\n",
    "    alpha=0.7\n",
    ")\n",
    "plt.xlabel('Feature fire rate (%)')\n",
    "plt.ylabel('Percentage of features (%)')\n",
    "plt.title('Feature fire rate distribution')\n",
    "plt.grid(axis='y', alpha=0.3)\n",
    "plt.xlim(0, 100)\n",
    "plt.xticks(np.arange(0, 101, 10))\n",
    "plt.tight_layout()\n",
    "plt.legend(loc='upper right')\n",
    "plt.show()"
   ],
   "id": "43f5fad67db0b5df",
   "outputs": [
    {
     "name": "stderr",
     "output_type": "stream",
     "text": [
      "WARNING:root:Support for BERT in TransformerLens is currently experimental, until such a time when it has feature parity with HookedTransformer and has been tested on real research tasks. Until then, backward compatibility is not guaranteed. Please see the docs for information on the limitations of the current implementation.\n",
      "If using BERT for interpretability research, keep in mind that BERT has some significant architectural differences to GPT. For example, LayerNorms are applied *after* the attention and MLP components, meaning that the last LayerNorm in a block cannot be folded.\n"
     ]
    },
    {
     "name": "stdout",
     "output_type": "stream",
     "text": [
      "Moving model to device:  cuda\n",
      "Loaded pretrained model bert-base-uncased into HookedEncoder\n",
      "Moving model to device:  cuda\n"
     ]
    },
    {
     "name": "stderr",
     "output_type": "stream",
     "text": [
      "C:\\Users\\Diego\\AppData\\Local\\Temp\\ipykernel_17084\\3937738014.py:79: UserWarning: No artists with labels found to put in legend.  Note that artists whose label start with an underscore are ignored when legend() is called with no argument.\n",
      "  plt.legend(loc='upper right')\n"
     ]
    },
    {
     "data": {
      "text/plain": [
       "<Figure size 1200x500 with 1 Axes>"
      ],
      "image/png": "[encoded data removed]"
     },
     "metadata": {},
     "output_type": "display_data"
    }
   ],
   "execution_count": 32
  },
  {
   "metadata": {
    "ExecuteTime": {
     "end_time": "2025-04-01T15:32:20.498970Z",
     "start_time": "2025-04-01T15:32:20.323540Z"
    }
   },
   "cell_type": "code",
   "source": [
    "counts, bins = np.histogram(vals, bins=100, range=(0,100))\n",
    "counts_pct = (counts / num_features) * 100\n",
    "bin_width = bins[1] - bins[0]\n",
    "plt.figure(figsize=(12, 5))\n",
    "plt.bar(\n",
    "    bins[:-1],\n",
    "    counts_pct,\n",
    "    width=bin_width,\n",
    "    align='edge',\n",
    "    edgecolor='black',\n",
    "    alpha=0.7\n",
    ")\n",
    "plt.xlabel('Feature fire rate (%)')\n",
    "plt.ylabel('Percentage of features (%)')\n",
    "plt.title('Feature fire rate distribution of the SAE hidden dimension')\n",
    "plt.grid(axis='y', alpha=0.3)\n",
    "plt.xlim(0, 100)\n",
    "plt.xticks(np.arange(0, 101, 10))\n",
    "plt.tight_layout()\n",
    "plt.legend(loc='upper right')\n",
    "plt.show()"
   ],
   "id": "37449e363c4d977c",
   "outputs": [
    {
     "name": "stderr",
     "output_type": "stream",
     "text": [
      "C:\\Users\\Diego\\AppData\\Local\\Temp\\ipykernel_17084\\2709978782.py:20: UserWarning: No artists with labels found to put in legend.  Note that artists whose label start with an underscore are ignored when legend() is called with no argument.\n",
      "  plt.legend(loc='upper right')\n"
     ]
    },
    {
     "data": {
      "text/plain": [
       "<Figure size 1200x500 with 1 Axes>"
      ],
      "image/png": "[encoded data removed]"
     },
     "metadata": {},
     "output_type": "display_data"
    }
   ],
   "execution_count": 33
  },
  {
   "metadata": {},
   "cell_type": "markdown",
   "source": [
    "---\n",
    "### Cosine similarity analysis of thematic datasets"
   ],
   "id": "66aab9b57efae340"
  },
  {
   "metadata": {
    "ExecuteTime": {
     "end_time": "2025-04-02T07:52:16.802162Z",
     "start_time": "2025-04-02T07:52:14.111961Z"
    }
   },
   "cell_type": "code",
   "source": [
    "num_examples = 20\n",
    "dataset_embeddings = torch.zeros(num_examples, 768)\n",
    "\n",
    "dataset = load_dataset(\"brainchalov/pubmed_arxiv_abstracts_data\", split=\"train\", trust_remote_code=True, streaming=True)\n",
    "dataset = dataset.shuffle(seed=config[\"seed\"]).take(int(num_examples))\n",
    "\n",
    "for i, example in enumerate(dataset):\n",
    "    if i >= num_examples: break\n",
    "    text = example[\"abstr\"]\n",
    "    if len(text) > config[\"seq_len\"]: text = text[:config[\"seq_len\"]]\n",
    "    elif len(text) < config[\"seq_len\"]: text = text + \" \" * (config[\"seq_len\"] - len(text))\n",
    "    embed = sbert.encode(text, convert_to_tensor=True)\n",
    "    dataset_embeddings[i] = embed\n",
    "\n",
    "similarity_matrix = torch.zeros(dataset_embeddings.shape[0], dataset_embeddings.shape[0])\n",
    "for i in range(dataset_embeddings.shape[0]):\n",
    "    for j in range(dataset_embeddings.shape[0]):\n",
    "        similarity_matrix[i, j] = F.cosine_similarity(\n",
    "            dataset_embeddings[i].unsqueeze(0),\n",
    "            dataset_embeddings[j].unsqueeze(0)\n",
    "        )"
   ],
   "id": "793ab241d7ebb0af",
   "outputs": [
    {
     "name": "stderr",
     "output_type": "stream",
     "text": [
      "Repo card metadata block was not found. Setting CardData to empty.\n",
      "WARNING:huggingface_hub.repocard:Repo card metadata block was not found. Setting CardData to empty.\n"
     ]
    }
   ],
   "execution_count": 33
  },
  {
   "metadata": {
    "ExecuteTime": {
     "end_time": "2025-04-02T07:52:16.817975Z",
     "start_time": "2025-04-02T07:52:16.807415Z"
    }
   },
   "cell_type": "code",
   "source": "similarity_matrix",
   "id": "fb75adf17368d444",
   "outputs": [
    {
     "data": {
      "text/plain": [
       "tensor([[ 1.0000e+00,  1.1460e-01,  2.0941e-01,  2.5548e-01,  1.8163e-01,\n",
       "          1.8561e-01,  1.2880e-01,  2.8853e-01, -3.4348e-03,  1.7291e-01,\n",
       "          3.7609e-02,  3.4524e-02,  3.6460e-01,  2.3592e-01,  2.8295e-01,\n",
       "          2.9153e-01,  2.6152e-01,  8.9568e-02,  3.1548e-01,  1.3734e-01],\n",
       "        [ 1.1460e-01,  1.0000e+00,  2.6318e-01,  1.5494e-01, -5.6090e-02,\n",
       "          2.4295e-01,  2.2501e-01,  2.2609e-01,  1.5692e-01,  4.6332e-01,\n",
       "          3.2029e-01,  1.1214e-01,  2.3209e-01,  2.4443e-01,  1.7690e-01,\n",
       "          1.6723e-01,  2.6127e-01,  1.0026e-01,  2.1720e-01,  1.8838e-01],\n",
       "        [ 2.0941e-01,  2.6318e-01,  1.0000e+00,  7.2204e-02,  9.0850e-02,\n",
       "          2.0978e-01,  2.6841e-01,  2.5392e-01,  7.7784e-02,  5.1251e-01,\n",
       "          1.0790e-01,  1.8197e-01,  2.4676e-01,  1.4586e-01,  2.4132e-01,\n",
       "          1.8615e-01,  1.1647e-01,  1.8637e-01,  1.7242e-01,  1.6060e-01],\n",
       "        [ 2.5548e-01,  1.5494e-01,  7.2204e-02,  1.0000e+00,  9.3573e-02,\n",
       "          1.5523e-01,  4.8548e-02,  8.3931e-02,  6.1893e-02,  6.4206e-02,\n",
       "          2.7774e-01,  1.5051e-01,  2.5659e-02,  1.2784e-01,  2.4476e-01,\n",
       "          2.0644e-01,  2.4230e-01,  2.1025e-01,  1.8192e-01,  3.5462e-03],\n",
       "        [ 1.8163e-01, -5.6090e-02,  9.0850e-02,  9.3573e-02,  1.0000e+00,\n",
       "          1.3162e-01,  1.6402e-01,  2.2880e-01,  9.6604e-04,  6.6229e-02,\n",
       "          5.7760e-02,  1.2704e-01,  8.8561e-02,  6.7586e-02,  2.4236e-01,\n",
       "          1.6068e-01,  3.8324e-02, -5.5839e-02,  1.0863e-01,  4.0871e-02],\n",
       "        [ 1.8561e-01,  2.4295e-01,  2.0978e-01,  1.5523e-01,  1.3162e-01,\n",
       "          1.0000e+00,  1.8734e-01,  1.4768e-01,  3.5786e-02,  3.3357e-01,\n",
       "          1.3184e-01,  1.0662e-01,  1.7329e-01,  2.9457e-01,  3.1593e-01,\n",
       "          2.8603e-01,  1.0335e-01,  1.2037e-01,  1.1634e-01,  1.7972e-01],\n",
       "        [ 1.2880e-01,  2.2501e-01,  2.6841e-01,  4.8548e-02,  1.6402e-01,\n",
       "          1.8734e-01,  1.0000e+00,  1.8687e-01, -5.7250e-02,  2.8772e-01,\n",
       "          3.0715e-01,  5.0611e-02,  1.7418e-01,  1.2921e-01,  2.5701e-01,\n",
       "          2.4743e-01,  1.8382e-01,  2.1986e-02,  4.1771e-02,  1.3128e-01],\n",
       "        [ 2.8853e-01,  2.2609e-01,  2.5392e-01,  8.3931e-02,  2.2880e-01,\n",
       "          1.4768e-01,  1.8687e-01,  1.0000e+00,  6.5858e-02,  2.1338e-01,\n",
       "          1.3159e-01,  1.7404e-01,  2.0417e-01,  2.3163e-01,  2.5764e-01,\n",
       "          2.3721e-01,  1.8110e-01,  2.1275e-01,  2.8874e-01,  2.1822e-01],\n",
       "        [-3.4348e-03,  1.5692e-01,  7.7784e-02,  6.1893e-02,  9.6604e-04,\n",
       "          3.5786e-02, -5.7250e-02,  6.5858e-02,  1.0000e+00,  1.1701e-01,\n",
       "          1.9427e-01,  1.1745e-01, -5.7585e-02,  4.5602e-02, -3.5616e-02,\n",
       "          1.2716e-01,  1.5734e-01,  1.8864e-01,  5.5170e-02,  9.2763e-02],\n",
       "        [ 1.7291e-01,  4.6332e-01,  5.1251e-01,  6.4206e-02,  6.6229e-02,\n",
       "          3.3357e-01,  2.8772e-01,  2.1338e-01,  1.1701e-01,  1.0000e+00,\n",
       "          1.7248e-01,  1.6761e-01,  1.6973e-01,  2.9902e-01,  1.5715e-01,\n",
       "          2.5358e-01,  7.7876e-02,  1.8788e-01,  3.0164e-01,  2.3790e-01],\n",
       "        [ 3.7609e-02,  3.2029e-01,  1.0790e-01,  2.7774e-01,  5.7760e-02,\n",
       "          1.3184e-01,  3.0715e-01,  1.3159e-01,  1.9427e-01,  1.7248e-01,\n",
       "          1.0000e+00,  1.6902e-01,  5.1097e-02,  1.9263e-01,  1.7434e-01,\n",
       "          1.0312e-01,  3.3605e-01,  1.9436e-01,  1.0021e-01,  4.8834e-02],\n",
       "        [ 3.4524e-02,  1.1214e-01,  1.8197e-01,  1.5051e-01,  1.2704e-01,\n",
       "          1.0662e-01,  5.0611e-02,  1.7404e-01,  1.1745e-01,  1.6761e-01,\n",
       "          1.6902e-01,  1.0000e+00,  2.9759e-02, -2.5165e-02,  4.4479e-02,\n",
       "          1.1449e-01,  3.3581e-03,  1.0019e-01,  1.4276e-01,  1.6101e-01],\n",
       "        [ 3.6460e-01,  2.3209e-01,  2.4676e-01,  2.5659e-02,  8.8561e-02,\n",
       "          1.7329e-01,  1.7418e-01,  2.0417e-01, -5.7585e-02,  1.6973e-01,\n",
       "          5.1097e-02,  2.9759e-02,  1.0000e+00,  3.6349e-01,  1.7594e-01,\n",
       "          3.5531e-01,  2.8378e-01,  2.0889e-02,  9.6984e-02,  7.7785e-02],\n",
       "        [ 2.3592e-01,  2.4443e-01,  1.4586e-01,  1.2784e-01,  6.7586e-02,\n",
       "          2.9457e-01,  1.2921e-01,  2.3163e-01,  4.5602e-02,  2.9902e-01,\n",
       "          1.9263e-01, -2.5165e-02,  3.6349e-01,  1.0000e+00,  1.6603e-01,\n",
       "          2.6264e-01,  2.0597e-01,  1.1020e-01,  1.1032e-01,  6.5370e-02],\n",
       "        [ 2.8295e-01,  1.7690e-01,  2.4132e-01,  2.4476e-01,  2.4236e-01,\n",
       "          3.1593e-01,  2.5701e-01,  2.5764e-01, -3.5616e-02,  1.5715e-01,\n",
       "          1.7434e-01,  4.4479e-02,  1.7594e-01,  1.6603e-01,  1.0000e+00,\n",
       "          3.1906e-01,  2.4330e-01,  1.5991e-01,  6.2268e-02,  8.4114e-02],\n",
       "        [ 2.9153e-01,  1.6723e-01,  1.8615e-01,  2.0644e-01,  1.6068e-01,\n",
       "          2.8603e-01,  2.4743e-01,  2.3721e-01,  1.2716e-01,  2.5358e-01,\n",
       "          1.0312e-01,  1.1449e-01,  3.5531e-01,  2.6264e-01,  3.1906e-01,\n",
       "          1.0000e+00,  3.4826e-01,  1.2862e-01,  2.2092e-01,  1.0006e-01],\n",
       "        [ 2.6152e-01,  2.6127e-01,  1.1647e-01,  2.4230e-01,  3.8324e-02,\n",
       "          1.0335e-01,  1.8382e-01,  1.8110e-01,  1.5734e-01,  7.7876e-02,\n",
       "          3.3605e-01,  3.3581e-03,  2.8378e-01,  2.0597e-01,  2.4330e-01,\n",
       "          3.4826e-01,  1.0000e+00,  1.7470e-01,  1.2406e-01,  1.4808e-01],\n",
       "        [ 8.9568e-02,  1.0026e-01,  1.8637e-01,  2.1025e-01, -5.5839e-02,\n",
       "          1.2037e-01,  2.1986e-02,  2.1275e-01,  1.8864e-01,  1.8788e-01,\n",
       "          1.9436e-01,  1.0019e-01,  2.0889e-02,  1.1020e-01,  1.5991e-01,\n",
       "          1.2862e-01,  1.7470e-01,  1.0000e+00,  3.1895e-04,  2.8402e-01],\n",
       "        [ 3.1548e-01,  2.1720e-01,  1.7242e-01,  1.8192e-01,  1.0863e-01,\n",
       "          1.1634e-01,  4.1771e-02,  2.8874e-01,  5.5170e-02,  3.0164e-01,\n",
       "          1.0021e-01,  1.4276e-01,  9.6984e-02,  1.1032e-01,  6.2268e-02,\n",
       "          2.2092e-01,  1.2406e-01,  3.1895e-04,  1.0000e+00,  9.0833e-02],\n",
       "        [ 1.3734e-01,  1.8838e-01,  1.6060e-01,  3.5462e-03,  4.0871e-02,\n",
       "          1.7972e-01,  1.3128e-01,  2.1822e-01,  9.2763e-02,  2.3790e-01,\n",
       "          4.8834e-02,  1.6101e-01,  7.7785e-02,  6.5370e-02,  8.4114e-02,\n",
       "          1.0006e-01,  1.4808e-01,  2.8402e-01,  9.0833e-02,  1.0000e+00]])"
      ]
     },
     "execution_count": 34,
     "metadata": {},
     "output_type": "execute_result"
    }
   ],
   "execution_count": 34
  },
  {
   "metadata": {
    "ExecuteTime": {
     "end_time": "2025-04-02T07:55:39.515017Z",
     "start_time": "2025-04-02T07:55:39.309873Z"
    }
   },
   "cell_type": "code",
   "source": [
    "import seaborn as sns\n",
    "from matplotlib.colors import LinearSegmentedColormap\n",
    "\n",
    "cmap = LinearSegmentedColormap.from_list(\"custom_red\", [\"white\", \"red\"])\n",
    "\n",
    "sns.heatmap(similarity_matrix, cmap=cmap, vmin=0.4, vmax=1.0, square=True, linewidths=0.5, linecolor='gray')"
   ],
   "id": "a15b3048e63b126a",
   "outputs": [
    {
     "data": {
      "text/plain": [
       "<Axes: >"
      ]
     },
     "execution_count": 39,
     "metadata": {},
     "output_type": "execute_result"
    },
    {
     "data": {
      "text/plain": [
       "<Figure size 640x480 with 2 Axes>"
      ],
      "image/png": "[encoded data removed]"
     },
     "metadata": {},
     "output_type": "display_data"
    }
   ],
   "execution_count": 39
  },
  {
   "metadata": {
    "ExecuteTime": {
     "end_time": "2025-04-02T10:29:52.608639Z",
     "start_time": "2025-04-02T10:29:51.112921Z"
    }
   },
   "cell_type": "code",
   "source": [
    "model = HookedEncoder.from_pretrained(\"bert-base-uncased\")\n",
    "model.embed.hook_embed"
   ],
   "id": "70eca93fcb181f86",
   "outputs": [
    {
     "name": "stderr",
     "output_type": "stream",
     "text": [
      "WARNING:root:Support for BERT in TransformerLens is currently experimental, until such a time when it has feature parity with HookedTransformer and has been tested on real research tasks. Until then, backward compatibility is not guaranteed. Please see the docs for information on the limitations of the current implementation.\n",
      "If using BERT for interpretability research, keep in mind that BERT has some significant architectural differences to GPT. For example, LayerNorms are applied *after* the attention and MLP components, meaning that the last LayerNorm in a block cannot be folded.\n"
     ]
    },
    {
     "name": "stdout",
     "output_type": "stream",
     "text": [
      "Moving model to device:  cuda\n",
      "Loaded pretrained model bert-base-uncased into HookedEncoder\n"
     ]
    },
    {
     "data": {
      "text/plain": [
       "HookPoint()"
      ]
     },
     "execution_count": 7,
     "metadata": {},
     "output_type": "execute_result"
    }
   ],
   "execution_count": 7
  },
  {
   "metadata": {
    "ExecuteTime": {
     "end_time": "2025-04-02T10:00:33.317581Z",
     "start_time": "2025-04-02T10:00:30.583199Z"
    }
   },
   "cell_type": "code",
   "source": [
    "model = HookedTransformer.from_pretrained(\"gpt2-small\")\n",
    "model"
   ],
   "id": "a65d648b375e7503",
   "outputs": [
    {
     "name": "stdout",
     "output_type": "stream",
     "text": [
      "Loaded pretrained model gpt2-small into HookedTransformer\n"
     ]
    },
    {
     "data": {
      "text/plain": [
       "HookedTransformer(\n",
       "  (embed): Embed()\n",
       "  (hook_embed): HookPoint()\n",
       "  (pos_embed): PosEmbed()\n",
       "  (hook_pos_embed): HookPoint()\n",
       "  (blocks): ModuleList(\n",
       "    (0-11): 12 x TransformerBlock(\n",
       "      (ln1): LayerNormPre(\n",
       "        (hook_scale): HookPoint()\n",
       "        (hook_normalized): HookPoint()\n",
       "      )\n",
       "      (ln2): LayerNormPre(\n",
       "        (hook_scale): HookPoint()\n",
       "        (hook_normalized): HookPoint()\n",
       "      )\n",
       "      (attn): Attention(\n",
       "        (hook_k): HookPoint()\n",
       "        (hook_q): HookPoint()\n",
       "        (hook_v): HookPoint()\n",
       "        (hook_z): HookPoint()\n",
       "        (hook_attn_scores): HookPoint()\n",
       "        (hook_pattern): HookPoint()\n",
       "        (hook_result): HookPoint()\n",
       "      )\n",
       "      (mlp): MLP(\n",
       "        (hook_pre): HookPoint()\n",
       "        (hook_post): HookPoint()\n",
       "      )\n",
       "      (hook_attn_in): HookPoint()\n",
       "      (hook_q_input): HookPoint()\n",
       "      (hook_k_input): HookPoint()\n",
       "      (hook_v_input): HookPoint()\n",
       "      (hook_mlp_in): HookPoint()\n",
       "      (hook_attn_out): HookPoint()\n",
       "      (hook_mlp_out): HookPoint()\n",
       "      (hook_resid_pre): HookPoint()\n",
       "      (hook_resid_mid): HookPoint()\n",
       "      (hook_resid_post): HookPoint()\n",
       "    )\n",
       "  )\n",
       "  (ln_final): LayerNormPre(\n",
       "    (hook_scale): HookPoint()\n",
       "    (hook_normalized): HookPoint()\n",
       "  )\n",
       "  (unembed): Unembed()\n",
       ")"
      ]
     },
     "execution_count": 3,
     "metadata": {},
     "output_type": "execute_result"
    }
   ],
   "execution_count": 3
  }
 ],
 "metadata": {
  "kernelspec": {
   "display_name": "Python 3",
   "language": "python",
   "name": "python3"
  },
  "language_info": {
   "codemirror_mode": {
    "name": "ipython",
    "version": 2
   },
   "file_extension": ".py",
   "mimetype": "text/x-python",
   "name": "python",
   "nbconvert_exporter": "python",
   "pygments_lexer": "ipython2",
   "version": "2.7.6"
  }
 },
 "nbformat": 4,
 "nbformat_minor": 5
}
